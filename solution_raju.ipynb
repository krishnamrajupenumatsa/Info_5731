{
  "cells": [
    {
      "cell_type": "markdown",
      "metadata": {
        "id": "DorM11qQZ01S"
      },
      "source": [
        "# **The fifth in-class-exercise (40 points in total, 11/17/2022)**"
      ]
    },
    {
      "cell_type": "markdown",
      "metadata": {
        "id": "HUgb_Y9RZ01W"
      },
      "source": [
        "(20 points) The purpose of the question is to practice different machine learning algorithms for text classification as well as the performance evaluation. In addition, you are requried to conduct *10 fold cross validation (https://scikit-learn.org/stable/modules/cross_validation.html)* in the training. \n",
        "\n",
        "The dataset can be download from canvas. The dataset contains two files train data and test data for sentiment analysis in IMDB review, it has two categories: 1 represents positive and 0 represents negative. You need to split the training data into training and validate data (80% for training and 20% for validation, https://towardsdatascience.com/train-test-split-and-cross-validation-in-python-80b61beca4b6) and perform 10 fold cross validation while training the classifier. The final trained model was final evaluated on the test data. \n",
        "\n",
        "Algorithms:\n",
        "\n",
        "(1) MultinominalNB\n",
        "\n",
        "(2) SVM \n",
        "\n",
        "(3) KNN \n",
        "\n",
        "(4) Decision tree\n",
        "\n",
        "(5) Random Forest\n",
        "\n",
        "(6) XGBoost\n",
        "\n",
        "Evaluation measurement:\n",
        "\n",
        "(1) Accuracy\n",
        "\n",
        "(2) Recall\n",
        "\n",
        "(3) Precison \n",
        "\n",
        "(4) F-1 score"
      ]
    },
    {
      "cell_type": "code",
      "execution_count": 3,
      "metadata": {
        "colab": {
          "base_uri": "https://localhost:8080/"
        },
        "id": "ejQOA_6myCRf",
        "outputId": "09e6e66d-6e4c-4de0-98f1-9f1f2043edca"
      },
      "outputs": [
        {
          "output_type": "stream",
          "name": "stdout",
          "text": [
            "Drive already mounted at /content/drive; to attempt to forcibly remount, call drive.mount(\"/content/drive\", force_remount=True).\n"
          ]
        }
      ],
      "source": [
        "from google.colab import drive\n",
        "drive.mount('/content/drive')"
      ]
    },
    {
      "cell_type": "code",
      "execution_count": 4,
      "metadata": {
        "id": "IKEnBeRMsJOe"
      },
      "outputs": [],
      "source": [
        "stsa_train_file = '/content/drive/MyDrive/Sklearn Assignment/stsa-train.txt'\n",
        "stsa_test_file = '/content/drive/MyDrive/Sklearn Assignment/stsa-test.txt'"
      ]
    },
    {
      "cell_type": "code",
      "execution_count": 5,
      "metadata": {
        "id": "e1XcEjtTw7fv"
      },
      "outputs": [],
      "source": [
        "import numpy as np\n",
        "file = open(stsa_train_file, 'r')\n",
        "lines = file.readlines()\n",
        "train_data_x = []\n",
        "train_data_y = []\n",
        "for line in lines:\n",
        "  feedback, dialogue = line.split(' ', 1)\n",
        "  train_data_x.append(dialogue)\n",
        "  train_data_y.append(feedback)\n",
        "  \n",
        "file = open(stsa_test_file, 'r')\n",
        "lines = file.readlines()\n",
        "test_data_x = []\n",
        "test_data_y = []\n",
        "for line in lines:\n",
        "  feedback, dialogue = line.split(' ', 1)\n",
        "  test_data_x.append(dialogue)\n",
        "  test_data_y.append(feedback)\n",
        "\n",
        "train_y = np.array([eval(i) for i in train_data_y])\n",
        "test_y = np.array([eval(i) for i in test_data_y])\n",
        "\n",
        "from nltk.corpus import stopwords\n",
        "from sklearn.feature_extraction.text import TfidfVectorizer\n",
        "\n",
        "vectorizer = TfidfVectorizer ()\n",
        "train_x = vectorizer.fit_transform(train_data_x)\n",
        "vocab = vectorizer.vocabulary_\n",
        "vectorizer = TfidfVectorizer(vocabulary=vocab)\n",
        "test_x = vectorizer.fit_transform(test_data_x)"
      ]
    },
    {
      "cell_type": "code",
      "execution_count": 6,
      "metadata": {
        "id": "GwH6K7fNDI04"
      },
      "outputs": [],
      "source": [
        "def confusion(expected, actual):\n",
        "  tp = 0\n",
        "  tn = 0\n",
        "  fp = 0\n",
        "  fn = 0\n",
        "  for i in range(len(expected)):\n",
        "    if (expected[i] < 0.5):\n",
        "      expected[i] = 0\n",
        "    else:\n",
        "      expected[i] = 1\n",
        "  print(expected)\n",
        "  for a, b in zip(expected, actual):\n",
        "    if a == 1 and b == 1:\n",
        "      tp += 1\n",
        "    if a == 0 and b == 0:\n",
        "      tn += 1\n",
        "    if a == 0 and b == 1:\n",
        "      fp += 1\n",
        "    if a == 1 and b == 0:\n",
        "      fn += 1\n",
        "  return [tp, tn, fp, fn]\n",
        "\n",
        "def calc_accuracy(confusion_array):\n",
        "  return (confusion_array[0] + confusion_array[1]) / np.sum(confusion_array)\n",
        "\n",
        "def calc_precision(confusion_array):\n",
        "  # TP / (TP + FP)\n",
        "  return confusion_array[0] / (confusion_array[0] + confusion_array[2])\n",
        "\n",
        "def calc_recall(confusion_array):\n",
        "  # TP / (TP + FN)\n",
        "  return confusion_array[0] / (confusion_array[0] + confusion_array[3])\n",
        "\n",
        "def calc_f1score(precision, recall):\n",
        "  return 2 * (precision * recall) / (precision + recall)"
      ]
    },
    {
      "cell_type": "code",
      "execution_count": 7,
      "metadata": {
        "id": "_msvg7JmfNQA"
      },
      "outputs": [],
      "source": [
        "def train_10fold_cross_fold(clf):\n",
        "  kf = KFold(n_splits=10)\n",
        "\n",
        "  for train_index, test_index in kf.split(train_data_x):\n",
        "    X_train, X_test = train_x[train_index], train_y[train_index]\n",
        "    y_train, y_test = train_x[test_index], train_y[test_index]\n",
        "    clf.fit(X_train, X_test)\n",
        "  return clf"
      ]
    },
    {
      "cell_type": "code",
      "execution_count": 8,
      "metadata": {
        "id": "ftbCsF6GdyvW"
      },
      "outputs": [],
      "source": [
        "def print_metrics(clf):\n",
        "  confusion_array = confusion(clf.predict(test_x), test_y)\n",
        "  print(clf.predict(test_x))\n",
        "  print(confusion_array)\n",
        "  accuracy = calc_accuracy(confusion_array)\n",
        "  precision = calc_precision(confusion_array)\n",
        "  recall = calc_recall(confusion_array)\n",
        "  f1score = calc_f1score(precision, recall)\n",
        "\n",
        "  print(\"Accuracy: {}\".format(accuracy))\n",
        "  print(\"Precision: {}\".format(precision))\n",
        "  print(\"Recall: {}\".format(recall))\n",
        "  print(\"F1 Score: {}\".format(f1score))\n",
        "  print(\"\")"
      ]
    },
    {
      "cell_type": "code",
      "execution_count": 9,
      "metadata": {
        "id": "0QPBrfDMZ01X"
      },
      "outputs": [],
      "source": [
        "# MultinominalNB\n",
        "from sklearn.naive_bayes import MultinomialNB\n",
        "from sklearn.model_selection import KFold\n",
        "\n",
        "def multinominalNB():\n",
        "  clf = MultinomialNB()\n",
        "  print(\"MultinomialNB:\")\n",
        "  print_metrics(train_10fold_cross_fold(clf))"
      ]
    },
    {
      "cell_type": "code",
      "execution_count": 10,
      "metadata": {
        "id": "EgaiOiv2bqv-"
      },
      "outputs": [],
      "source": [
        "# SVM\n",
        "from sklearn.svm import SVC\n",
        "from sklearn.model_selection import KFold\n",
        "\n",
        "def svm():\n",
        "  clf = SVC(kernel='linear')\n",
        "  print(\"SVM:\")\n",
        "  print_metrics(train_10fold_cross_fold(clf))"
      ]
    },
    {
      "cell_type": "code",
      "execution_count": 11,
      "metadata": {
        "id": "JTOrq7fqgAQD"
      },
      "outputs": [],
      "source": [
        "# Decision tree\n",
        "from sklearn import tree\n",
        "from sklearn.model_selection import KFold\n",
        "\n",
        "def decisionTree():\n",
        "  clf = tree.DecisionTreeRegressor()\n",
        "  print(\"Decision tree:\")\n",
        "  print_metrics(train_10fold_cross_fold(clf))"
      ]
    },
    {
      "cell_type": "code",
      "execution_count": 12,
      "metadata": {
        "id": "F8g62J0-hDL-"
      },
      "outputs": [],
      "source": [
        "# Random forest classifier\n",
        "from sklearn.ensemble import RandomForestClassifier\n",
        "from sklearn.model_selection import KFold\n",
        "\n",
        "def randomForestClassifier():\n",
        "  clf = RandomForestClassifier(max_depth=4, random_state=42)\n",
        "  print(\"Random forest classifier:\")\n",
        "  print_metrics(train_10fold_cross_fold(clf))"
      ]
    },
    {
      "cell_type": "code",
      "execution_count": 13,
      "metadata": {
        "id": "dwIrQ1Z_h-s-"
      },
      "outputs": [],
      "source": [
        "# XGBoost\n",
        "from xgboost import XGBRegressor\n",
        "from sklearn.model_selection import KFold\n",
        "\n",
        "def xgBoost():\n",
        "  clf = XGBRegressor(objective=\"reg:squarederror\")\n",
        "  print(\"XGBoost:\")\n",
        "  print_metrics(train_10fold_cross_fold(clf))"
      ]
    },
    {
      "cell_type": "code",
      "execution_count": 14,
      "metadata": {
        "colab": {
          "base_uri": "https://localhost:8080/"
        },
        "id": "0FuqB8sVe2hx",
        "outputId": "b46ff031-2a33-4431-a353-52632229875a"
      },
      "outputs": [
        {
          "output_type": "stream",
          "name": "stdout",
          "text": [
            "MultinomialNB:\n",
            "[0 0 0 ... 1 0 1]\n",
            "[0 0 0 ... 1 0 1]\n",
            "[810, 669, 99, 243]\n",
            "Accuracy: 0.8121911037891268\n",
            "Precision: 0.8910891089108911\n",
            "Recall: 0.7692307692307693\n",
            "F1 Score: 0.8256880733944955\n",
            "\n",
            "SVM:\n",
            "[0 0 0 ... 1 0 1]\n",
            "[0 0 0 ... 1 0 1]\n",
            "[753, 720, 156, 192]\n",
            "Accuracy: 0.8088962108731467\n",
            "Precision: 0.8283828382838284\n",
            "Recall: 0.7968253968253968\n",
            "F1 Score: 0.8122977346278317\n",
            "\n",
            "Decision tree:\n",
            "[0. 0. 0. ... 0. 1. 1.]\n",
            "[0. 0. 0. ... 0. 1. 1.]\n",
            "[595, 528, 314, 384]\n",
            "Accuracy: 0.6166941241076331\n",
            "Precision: 0.6545654565456546\n",
            "Recall: 0.6077630234933605\n",
            "F1 Score: 0.6302966101694915\n",
            "\n",
            "Random forest classifier:\n",
            "[1 1 0 ... 1 1 1]\n",
            "[1 1 0 ... 1 1 1]\n",
            "[897, 61, 12, 851]\n",
            "Accuracy: 0.5260845689181768\n",
            "Precision: 0.9867986798679867\n",
            "Recall: 0.5131578947368421\n",
            "F1 Score: 0.6751975912683478\n",
            "\n",
            "XGBoost:\n",
            "[0. 0. 0. ... 0. 1. 1.]\n",
            "[0.39848077 0.48213708 0.16598907 ... 0.48608533 0.6408894  0.5611265 ]\n",
            "[754, 436, 155, 476]\n",
            "Accuracy: 0.6534870950027457\n",
            "Precision: 0.8294829482948295\n",
            "Recall: 0.6130081300813008\n",
            "F1 Score: 0.705002337540907\n",
            "\n"
          ]
        }
      ],
      "source": [
        "multinominalNB()\n",
        "svm()\n",
        "decisionTree()\n",
        "randomForestClassifier()\n",
        "xgBoost()"
      ]
    },
    {
      "cell_type": "markdown",
      "metadata": {
        "id": "Ot1OXSZAZ01Z"
      },
      "source": [
        "(20 points) The purpose of the question is to practice different machine \n",
        "\n",
        "1.   List item\n",
        "2.   List item\n",
        "\n",
        "learning algorithms for text clustering\n",
        "Please downlad the dataset by using the following link.  https://www.kaggle.com/PromptCloudHQ/amazon-reviews-unlocked-mobile-phones\n",
        "(You can also use different text data which you want)\n",
        "\n",
        "Apply the listed clustering methods to the dataset:\n",
        "\n",
        "K means, \n",
        "DBSCAN,\n",
        "Hierarchical clustering. \n",
        "\n",
        "You can refer to of the codes from  the follwing link below. \n",
        "https://www.kaggle.com/karthik3890/text-clustering "
      ]
    },
    {
      "cell_type": "code",
      "execution_count": 21,
      "metadata": {
        "id": "lcbvrSxzfwAN"
      },
      "outputs": [],
      "source": [
        "reviews_file = '/content/drive/MyDrive/Sklearn Assignment/Amazon_Unlocked_Mobile.csv'"
      ]
    },
    {
      "cell_type": "code",
      "execution_count": 22,
      "metadata": {
        "colab": {
          "base_uri": "https://localhost:8080/"
        },
        "id": "9paEN3p2Z01a",
        "outputId": "967e2e70-1c83-4926-f76d-57ec2fb72cef"
      },
      "outputs": [
        {
          "output_type": "stream",
          "name": "stderr",
          "text": [
            "[nltk_data] Downloading package stopwords to /root/nltk_data...\n",
            "[nltk_data]   Package stopwords is already up-to-date!\n"
          ]
        }
      ],
      "source": [
        "#Write your code here.\n",
        "\n",
        "import pandas as pd\n",
        "data = pd.read_csv(reviews_file)\n",
        "data = data.head(5000)\n",
        "\n",
        "def partition(x):\n",
        "    if x < 3:\n",
        "        return 'negative'\n",
        "    return 'positive'\n",
        "\n",
        "actualRating = data['Rating']\n",
        "positiveNegative = actualRating.map(partition) \n",
        "data['Rating'] = positiveNegative\n",
        "\n",
        "import nltk\n",
        "import re\n",
        "nltk.download('stopwords')\n",
        "from nltk.corpus import stopwords\n",
        "sno = nltk.stem.SnowballStemmer('english') \n",
        "stop=set(stopwords.words('english'))\n",
        "\n",
        "\n",
        "\n",
        "def cleanhtml(sentence): \n",
        "    cleanr = re.compile('<.*?>')\n",
        "    cleantext = re.sub(cleanr, ' ', sentence)\n",
        "    return cleantext\n",
        "def cleanpunc(sentence): \n",
        "    cleaned = re.sub(r'[?|!|\\'|\"|#]',r'',sentence)\n",
        "    cleaned = re.sub(r'[.|,|)|(|\\|/]',r' ',cleaned)\n",
        "    return  cleaned\n",
        "\n",
        "i=0\n",
        "str1=' '\n",
        "final_string=[]\n",
        "all_positive_words=[]\n",
        "all_negative_words=[]\n",
        "s=''\n",
        "for sent in data['Reviews'].values:\n",
        "    filtered_sentence=[]\n",
        "    try:\n",
        "      sent=cleanhtml(sent)\n",
        "      for w in sent.split():\n",
        "          for cleaned_words in cleanpunc(w).split():\n",
        "              if((cleaned_words.isalpha()) & (len(cleaned_words)>2)):    \n",
        "                  if(cleaned_words.lower() not in stop):\n",
        "                      s=(sno.stem(cleaned_words.lower())).encode('utf8')\n",
        "                      filtered_sentence.append(s)\n",
        "                      if (data['Rating'].values)[i] == 'positive': \n",
        "                          all_positive_words.append(s)\n",
        "                      if(data['Rating'].values)[i] == 'negative':\n",
        "                          all_negative_words.append(s)\n",
        "                  else:\n",
        "                      continue\n",
        "              else:\n",
        "                  continue \n",
        "    except:\n",
        "      filtered_sentence = []\n",
        "    str1 = b\" \".join(filtered_sentence)\n",
        "    \n",
        "    final_string.append(str1)\n",
        "    i+=1\n",
        "\n",
        "data['CleanedReview'] = final_string \n",
        "data['CleanedReview'] = data['CleanedReview'].str.decode(\"utf-8\")\n",
        "\n",
        "from sklearn.feature_extraction.text import CountVectorizer\n",
        "count_vect = CountVectorizer()\n",
        "bow = count_vect.fit_transform(data['CleanedReview'].values)\n",
        "\n",
        "from sklearn.cluster import KMeans\n",
        "model = KMeans(n_clusters = 10,init='k-means++', random_state=99)\n",
        "model.fit(bow)\n",
        "\n",
        "df = data\n",
        "df['KMeans Label'] = model.labels_"
      ]
    },
    {
      "cell_type": "code",
      "execution_count": 23,
      "metadata": {
        "colab": {
          "base_uri": "https://localhost:8080/"
        },
        "id": "mEtoAzR418Wp",
        "outputId": "9f9ed94a-45b7-4a36-c106-535ee1d92dcd"
      },
      "outputs": [
        {
          "output_type": "stream",
          "name": "stderr",
          "text": [
            "/usr/local/lib/python3.7/dist-packages/ipykernel_launcher.py:44: RuntimeWarning: invalid value encountered in true_divide\n"
          ]
        }
      ],
      "source": [
        "i=0\n",
        "list_of_sent=[]\n",
        "for sent in data['CleanedReview'].values:\n",
        "    list_of_sent.append(sent.split())\n",
        "\n",
        "import re\n",
        "def cleanhtml(sentence): #function to clean the word of any html-tags\n",
        "    cleanr = re.compile('<.*?>')\n",
        "    cleantext = re.sub(cleanr, ' ', sentence)\n",
        "    return cleantext\n",
        "def cleanpunc(sentence): #function to clean the word of any punctuation or special characters\n",
        "    cleaned = re.sub(r'[?|!|\\'|\"|#]',r'',sentence)\n",
        "    cleaned = re.sub(r'[.|,|)|(|\\|/]',r' ',cleaned)\n",
        "    return  cleaned\n",
        "\n",
        "i=0\n",
        "list_of_sent_train=[]\n",
        "for sent in data['CleanedReview'].values:\n",
        "    filtered_sentence=[]\n",
        "    sent=cleanhtml(sent)\n",
        "    for w in sent.split():\n",
        "        for cleaned_words in cleanpunc(w).split():\n",
        "            if(cleaned_words.isalpha()):    \n",
        "                filtered_sentence.append(cleaned_words.lower())\n",
        "            else:\n",
        "                continue \n",
        "    list_of_sent_train.append(filtered_sentence)\n",
        "\n",
        "import gensim\n",
        "w2v_model=gensim.models.Word2Vec(list_of_sent_train,size=100, workers=4)\n",
        "\n",
        "import numpy as np\n",
        "sent_vectors = [];\n",
        "for sent in list_of_sent_train:\n",
        "    sent_vec = np.zeros(100)\n",
        "    cnt_words =0\n",
        "    for word in sent:\n",
        "        try:\n",
        "            vec = w2v_model.wv[word]\n",
        "            sent_vec += vec\n",
        "            cnt_words += 1\n",
        "        except:\n",
        "            pass\n",
        "    sent_vec /= cnt_words\n",
        "    sent_vectors.append(sent_vec)\n",
        "sent_vectors = np.array(sent_vectors)\n",
        "sent_vectors = np.nan_to_num(sent_vectors)"
      ]
    },
    {
      "cell_type": "code",
      "execution_count": 24,
      "metadata": {
        "id": "5Xq3AN6c2cbV"
      },
      "outputs": [],
      "source": [
        "from sklearn.cluster import DBSCAN\n",
        "\n",
        "def dbscan(sent_vectors):\n",
        "  model = DBSCAN(eps = 0.15, min_samples = 20, n_jobs=-1)\n",
        "  model.fit_predict(sent_vectors)\n",
        "  return model.labels_"
      ]
    },
    {
      "cell_type": "code",
      "execution_count": 25,
      "metadata": {
        "id": "9Hk4wN8L3LZK"
      },
      "outputs": [],
      "source": [
        "from sklearn.cluster import AgglomerativeClustering\n",
        "\n",
        "def hierarchical(sent_vectors):\n",
        "  cluster = AgglomerativeClustering(n_clusters=10, affinity='euclidean', linkage='ward')  #took n=5 from dendrogram curve \n",
        "  agg = cluster.fit_predict(sent_vectors)\n",
        "  return cluster.labels_"
      ]
    },
    {
      "cell_type": "code",
      "execution_count": 26,
      "metadata": {
        "id": "5K0bB_GZ3nLl"
      },
      "outputs": [],
      "source": [
        "df['DBScan Labels'] = dbscan(sent_vectors)\n",
        "df['Hierarchical Labels'] = hierarchical(sent_vectors)"
      ]
    },
    {
      "cell_type": "code",
      "execution_count": 27,
      "metadata": {
        "colab": {
          "base_uri": "https://localhost:8080/",
          "height": 851
        },
        "id": "8ZE-Wj1l3-G6",
        "outputId": "4df12494-6422-402a-dc90-3f5ce8b079db"
      },
      "outputs": [
        {
          "output_type": "display_data",
          "data": {
            "text/plain": [
              "<Figure size 432x288 with 1 Axes>"
            ],
            "image/png": "[encoded data removed]"
          },
          "metadata": {
            "needs_background": "light"
          }
        },
        {
          "output_type": "display_data",
          "data": {
            "text/plain": [
              "<Figure size 432x288 with 1 Axes>"
            ],
            "image/png": "[encoded data removed]"
          },
          "metadata": {
            "needs_background": "light"
          }
        },
        {
          "output_type": "display_data",
          "data": {
            "text/plain": [
              "<Figure size 432x288 with 1 Axes>"
            ],
            "image/png": "[encoded data removed]"
          },
          "metadata": {
            "needs_background": "light"
          }
        }
      ],
      "source": [
        "import matplotlib.pyplot as plt\n",
        "plt.bar([x for x in range(10)], df.groupby(['KMeans Label'])['Reviews'].count(), alpha = 0.4)\n",
        "plt.title('KMeans cluster points')\n",
        "plt.xlabel(\"Cluster number\")\n",
        "plt.ylabel(\"Number of points\")\n",
        "plt.show()\n",
        "\n",
        "plt.bar([x for x in range(8)], df.groupby(['DBScan Labels'])['Reviews'].count(), alpha = 0.4)\n",
        "plt.title('DBScan cluster points')\n",
        "plt.xlabel(\"Cluster number\")\n",
        "plt.ylabel(\"Number of points\")\n",
        "plt.show()\n",
        "\n",
        "plt.bar([x for x in range(10)], df.groupby(['Hierarchical Labels'])['Reviews'].count(), alpha = 0.4)\n",
        "plt.title('Hierarchical cluster points')\n",
        "plt.xlabel(\"Cluster number\")\n",
        "plt.ylabel(\"Number of points\")\n",
        "plt.show()"
      ]
    },
    {
      "cell_type": "markdown",
      "metadata": {
        "id": "cTMnQi0jZ01a"
      },
      "source": [
        "In one paragraph, please compare K means, DBSCAN and Hierarchical clustering."
      ]
    },
    {
      "cell_type": "markdown",
      "metadata": {
        "id": "PHsMAQpEfoKR"
      },
      "source": [
        "If we compare all the above three algorithms, Hierarchical clustering performs better. \n",
        "It was able to separate items into various clusters while DBScan and KMeans assigned most of the items to one cluster and other clusters contains very less number of reviews"
      ]
    },
    {
      "cell_type": "code",
      "source": [],
      "metadata": {
        "id": "OwjngSoTNHNF"
      },
      "execution_count": 27,
      "outputs": []
    }
  ],
  "metadata": {
    "accelerator": "GPU",
    "colab": {
      "provenance": []
    },
    "gpuClass": "standard",
    "kernelspec": {
      "display_name": "Python 3 (ipykernel)",
      "language": "python",
      "name": "python3"
    },
    "language_info": {
      "codemirror_mode": {
        "name": "ipython",
        "version": 3
      },
      "file_extension": ".py",
      "mimetype": "text/x-python",
      "name": "python",
      "nbconvert_exporter": "python",
      "pygments_lexer": "ipython3",
      "version": "3.9.12"
    }
  },
  "nbformat": 4,
  "nbformat_minor": 0
}