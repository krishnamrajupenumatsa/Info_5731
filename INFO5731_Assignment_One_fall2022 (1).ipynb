{
  "cells": [
    {
      "cell_type": "markdown",
      "metadata": {
        "id": "view-in-github"
      },
      "source": [
        "<a href=\"https://colab.research.google.com/github/unt-iialab/INFO5731_Spring2020/blob/master/Assignments/INFO5731_Assignment_One.ipynb\" target=\"_parent\"><img src=\"https://colab.research.google.com/assets/colab-badge.svg\" alt=\"Open In Colab\"/></a>"
      ]
    },
    {
      "cell_type": "markdown",
      "metadata": {
        "id": "Ryk8D1Q4Wsrp"
      },
      "source": [
        "# **INFO5731 Assignment One**"
      ]
    },
    {
      "cell_type": "markdown",
      "metadata": {
        "id": "90_NR8c5XGWc"
      },
      "source": [
        "# Question 1\n",
        "\n",
        "(20 points). Write a Python program to generate 12 random numbers between 1 and 100. Sort the list of numbers in ascending order and print it out. Sort the list of numbers in descending order and print it out. Calculate the average for the group and print it out."
      ]
    },
    {
      "cell_type": "code",
      "execution_count": 3,
      "metadata": {
        "colab": {
          "base_uri": "https://localhost:8080/"
        },
        "id": "5QX6bJjGWXY9",
        "outputId": "c566efc7-fcb1-4b42-84f8-2afca7397f8d"
      },
      "outputs": [
        {
          "output_type": "stream",
          "name": "stdout",
          "text": [
            "[6, 12, 17, 24, 29, 56, 71, 72, 74, 81, 90, 96]\n",
            "[96, 90, 81, 74, 72, 71, 56, 29, 24, 17, 12, 6]\n",
            "Avg 52.333333333333336\n"
          ]
        }
      ],
      "source": [
        "# Your code here\n",
        "\n",
        "import random\n",
        "q=[]\n",
        "for r in range(12):\n",
        "  q.append(random.randint(1,100))\n",
        "q.sort()\n",
        "print(q)\n",
        "q1=q\n",
        "s=q1[::-1]\n",
        "print(s)\n",
        "t=sum(s)/len(s)\n",
        "print(\"Avg\",t)"
      ]
    },
    {
      "cell_type": "markdown",
      "metadata": {
        "id": "1F_PZdH9Sh49"
      },
      "source": [
        "# Question 2\n",
        "(25 points). Write a program that will do the following string formatting tasks:\n",
        "\n",
        "(1) Ask the user to enter two sentences.\n",
        "\n",
        "(2) Make each sentence into a list. Each element in the list should correspond to a word in the sentence. For example, if the sentence is \"Alas! Am I alive? This is my first python program\", the program should print out ['Alas, '!', 'Am', 'I', 'alive, '?', 'This', 'is', 'my', 'first', 'python', 'program'].\n",
        "\n",
        "(3) Compare the two sentences. Print out a list of words that occur in both sentences.\n",
        "\n",
        "(4) Remove any punctuation from the sentence and print it back out. It should remove at least the following characters, but it can remove more: period(“.”), comma (“,”), semicolon (“;”), and colon (“:”)\n",
        "\n",
        "(5) Count the number of vowels in the sentences. Print out each vowel and the number of times it appears in the sentences, such as: a:2, e:1, i:0, etc"
      ]
    },
    {
      "cell_type": "code",
      "execution_count": 4,
      "metadata": {
        "colab": {
          "base_uri": "https://localhost:8080/"
        },
        "id": "Y0oOSlsOS0cq",
        "outputId": "fde4b69a-3b71-4581-b1f8-18c23eacdc3a"
      },
      "outputs": [
        {
          "output_type": "stream",
          "name": "stdout",
          "text": [
            "Alas! Am I alive?\n",
            "This is my first Python Program\n",
            "['Alas', '!', 'Am', 'I', 'alive', '?']\n",
            "['This', 'is', 'my', 'first', 'Python', 'Program']\n",
            "\n",
            " Common\n",
            "\n",
            " not in a punctuation\n",
            "\n",
            " vowel: {'a': 4, 'e': 1, 'i': 2, 'o': 0, 'u': 0}\n"
          ]
        }
      ],
      "source": [
        "# Your code here\n",
        "\n",
        "import string\n",
        "import re\n",
        "from string import punctuation\n",
        "v1=input(\"\")\n",
        "v2=input(\"\")\n",
        "\n",
        "u1=re.findall(r\"[\\w']+|[.,!?;:]\",v1)\n",
        "u2=re.findall(r\"[\\w']+|[.,!?;:]\",v2)\n",
        "\n",
        "print(u1)\n",
        "print(u2)\n",
        "\n",
        "print(\"\\n Common\")\n",
        "for ltr in u1:\n",
        "  for other in u2:\n",
        "    if ltr.lower() == other.lower():\n",
        "      print(ltr)\n",
        "\n",
        "print(\"\\n not in a punctuation\")\n",
        "for ltr in u1:\n",
        "  for other in u2:\n",
        "    if ltr.lower() == other.lower() and ltr not in string.punctuation:\n",
        "      print(ltr)\n",
        "\n",
        "vowels={'a':0,'e':0,'i':0,'o':0,'u':0}\n",
        "for letters in v1:\n",
        "  if letters.lower() in vowels:\n",
        "    vowels[letters.lower()]+=1\n",
        "\n",
        "print(\"\\n vowel:\",vowels)"
      ]
    },
    {
      "cell_type": "markdown",
      "metadata": {
        "id": "CmFoI4jDS9nx"
      },
      "source": [
        "# Question 3 \n",
        "\n",
        "(15 points). The formula that describes the volume V of a sphere with radius r is the following:\n",
        "\n",
        "$ V=\\frac{4}{3}\\ast\\ \\pi\\ast\\ r^3 $\n",
        "\n",
        "Write a program to calculate the value of V when r is in the range of 1–10. Output the result in the following format:\n",
        "\n",
        "\tr\tV\n",
        "\t1\t…\n",
        "\t2\t…\n",
        "\t3\t…\n"
      ]
    },
    {
      "cell_type": "code",
      "execution_count": 6,
      "metadata": {
        "colab": {
          "base_uri": "https://localhost:8080/"
        },
        "id": "pEyqeioAT95b",
        "outputId": "efbad81f-ca51-431f-e4a2-da710b60d7bb"
      },
      "outputs": [
        {
          "output_type": "stream",
          "name": "stdout",
          "text": [
            "10 4.1887902047863905\n",
            "10 33.510321638291124\n",
            "10 113.09733552923254\n",
            "10 268.082573106329\n",
            "10 523.5987755982989\n",
            "10 904.7786842338603\n",
            "10 1436.7550402417319\n",
            "10 2144.660584850632\n",
            "10 3053.6280592892786\n",
            "10 4188.790204786391\n"
          ]
        }
      ],
      "source": [
        "# Your code here\n",
        "\n",
        "pai=3.141592653589793\n",
        "for rad in range(1,11):\n",
        "   T=(4/3)*pai*(rad**3)\n",
        "   print(s,T)"
      ]
    },
    {
      "cell_type": "markdown",
      "metadata": {
        "id": "z3tBE7E-Xn5X"
      },
      "source": [
        "# Question 4\n",
        "\n",
        "(40 points). In the field of Data Science, data is often formatted as a comma-delimited (CSV) file, where each line in a file corresponds to a field's value. Refer to Chapter 9 (p. 106) for more information on comma-delimited files. To answer this question, you will need to download the file [Assignment1_denton_housing.csv](https://raw.githubusercontent.com/unt-iialab/info5731-spring2022/main/assignments/Assignment1_denton_housing.csv) included with this assignment. The file [Assignment1_denton_housing.csv](https://raw.githubusercontent.com/unt-iialab/info5731-spring2022/main/assignments/Assignment1_denton_housing.csv) contains statistics about housing in the city of Denton from 2008 to 2014. Write a program to implement the following questions.\n",
        "\n",
        "(1) (10 pts) Calculate the difference in the number of Occupied Housing Units from year to year and print it. The difference must be calculated for the consecutive years such as 2008-2009, 2009-2010 etc. Finally, print the values in the ascending order.\n",
        "\n",
        "(2) (10 pts) For all the years, calculate the percentage of housing units which are vacant an occupied. Print the results in the following format:\n",
        "\n",
        "Year Vacant Housing Units Occupied Housing Units\n",
        "\n",
        "    2008  30%   70%                          \n",
        "\t2009 ----- -----\n",
        "\t2010 ----- -----\n",
        "    2011 ----- -----\n",
        "\t2012 ----- -----\n",
        "    2013 ----- -----\n",
        "\t2014 ----- -----\n",
        "  \n",
        "  \n",
        "\n",
        "(3) (10 pts) Calculate and print the valued and years in which the highest number of housing units were vacant and occupied. Print the results in the following format:  \n",
        "\n",
        "                              Year\tValue\n",
        "\tVacant Housing Units\t  -----   -----\n",
        "\tOccupied Housing Units\t-----   -----\n",
        "\n",
        "(4) (10 pts) Calculate the harmonic mean of the total housing units and print it out. You can find the information about harmonic mean here: https://ncalculators.com/statistics/harmonic-mean-calculator.htm"
      ]
    },
    {
      "cell_type": "code",
      "execution_count": 8,
      "metadata": {
        "colab": {
          "base_uri": "https://localhost:8080/"
        },
        "id": "lqGYuHBhcsRH",
        "outputId": "076a4eca-5e54-478c-c864-ecc58ef39115"
      },
      "outputs": [
        {
          "output_type": "stream",
          "name": "stderr",
          "text": [
            "/usr/local/lib/python3.7/dist-packages/pandas/util/_decorators.py:311: SettingWithCopyWarning: \n",
            "A value is trying to be set on a copy of a slice from a DataFrame\n",
            "\n",
            "See the caveats in the documentation: https://pandas.pydata.org/pandas-docs/stable/user_guide/indexing.html#returning-a-view-versus-a-copy\n",
            "  return func(*args, **kwargs)\n",
            "/usr/local/lib/python3.7/dist-packages/ipykernel_launcher.py:9: SettingWithCopyWarning: \n",
            "A value is trying to be set on a copy of a slice from a DataFrame.\n",
            "Try using .loc[row_indexer,col_indexer] = value instead\n",
            "\n",
            "See the caveats in the documentation: https://pandas.pydata.org/pandas-docs/stable/user_guide/indexing.html#returning-a-view-versus-a-copy\n",
            "  if __name__ == '__main__':\n"
          ]
        }
      ],
      "source": [
        "# Your code here\n",
        "import pandas as pd\n",
        "import numpy as np\n",
        "\n",
        "a=pd.read_csv(\"/content/Assignment1_denton_housing.csv\")\n",
        "\n",
        "a1=a[a[\"title_field\"]=='Occupied Housing Units']\n",
        "a1.sort_values(by=['year'],ascending=True,inplace=True)\n",
        "a1[\"value_DIFF\"]=abs(a1[\"value\"].diff())\n",
        "\n"
      ]
    },
    {
      "cell_type": "code",
      "source": [
        "a1=a1.dropna()\n",
        "a1=a1.reset_index(drop=True)\n",
        "a1.sort_values(by='value_DIFF',ascending=True,inplace=True)\n",
        "for ma in a1.index:\n",
        "  print(str(a1['year'][ma])+'-'+str(a1['year'][ma]-1),'',a1['value_DIFF'][ma])"
      ],
      "metadata": {
        "colab": {
          "base_uri": "https://localhost:8080/"
        },
        "id": "n-RMZSEiI1kf",
        "outputId": "81d89a82-e6a6-4fd5-abad-3509d15b8834"
      },
      "execution_count": 9,
      "outputs": [
        {
          "output_type": "stream",
          "name": "stdout",
          "text": [
            "2011-2010  303.0\n",
            "2009-2008  795.0\n",
            "2012-2011  1404.0\n",
            "2013-2012  1565.0\n",
            "2014-2013  2622.0\n",
            "2010-2009  5091.0\n"
          ]
        }
      ]
    },
    {
      "cell_type": "code",
      "source": [
        "import math\n",
        "V1=0.0\n",
        "T=0.0\n",
        "a=a.reset_index(drop=True)\n",
        "for year in range(2008,2015):\n",
        "    V1=a[(a['year'] == year) & (a['title_field'] == 'Vacant Housing Units')]['value'].values[0]\n",
        "    V2=a[(a['year'] == year) & (a['title_field'] == 'Occupied Housing Units')]['value'].values[0]\n",
        "    T=a[(a['year'] == year) & (a['title_field'] == 'Total Housing Units')]['value'].values[0] \n",
        "    Vac_Percentage=round((V1/T)*100)\n",
        "    Occ_Percentage=round((V2/T)*100)\n",
        "    print(year,str(Vac_Percentage)+'%','',str(Occ_Percentage)+'%')"
      ],
      "metadata": {
        "colab": {
          "base_uri": "https://localhost:8080/"
        },
        "id": "7iWHvh3kJYQT",
        "outputId": "d137dfd5-441c-40f2-892a-c0f52a4b9c01"
      },
      "execution_count": 10,
      "outputs": [
        {
          "output_type": "stream",
          "name": "stdout",
          "text": [
            "2008 11%  89%\n",
            "2009 9%  91%\n",
            "2010 8%  92%\n",
            "2011 9%  91%\n",
            "2012 7%  93%\n",
            "2013 9%  91%\n",
            "2014 6%  94%\n"
          ]
        }
      ]
    },
    {
      "cell_type": "code",
      "source": [
        "#3 rd Question\n",
        "print(' ','Year','Value')\n",
        "for i in ('Vacant Housing Units','Occupied Housing Units'):\n",
        "    v3=a[(a['title_field'] == i)]['value'].max()\n",
        "    v4=a[(a['title_field'] == i)]['year'].max()\n",
        "    print(i,v4,v3)"
      ],
      "metadata": {
        "colab": {
          "base_uri": "https://localhost:8080/"
        },
        "id": "AURofYgeJcCA",
        "outputId": "f0a7180f-9e70-4698-ce2a-c5d6e2322844"
      },
      "execution_count": 11,
      "outputs": [
        {
          "output_type": "stream",
          "name": "stdout",
          "text": [
            "  Year Value\n",
            "Vacant Housing Units 2014 4483\n",
            "Occupied Housing Units 2014 46295\n"
          ]
        }
      ]
    },
    {
      "cell_type": "code",
      "source": [
        "#4 th Question\n",
        "import statistics\n",
        "print(\"Mean\", statistics.harmonic_mean(a[(a['title_field'] == 'Total Housing Units')]['value']))"
      ],
      "metadata": {
        "colab": {
          "base_uri": "https://localhost:8080/"
        },
        "id": "d_nX_qewJfOa",
        "outputId": "122453be-e48d-4cc6-b36c-1104b00bc8c2"
      },
      "execution_count": 13,
      "outputs": [
        {
          "output_type": "stream",
          "name": "stdout",
          "text": [
            "Mean 44398.28543969185\n"
          ]
        }
      ]
    },
    {
      "cell_type": "code",
      "source": [],
      "metadata": {
        "id": "wPRtiAoEJiSn"
      },
      "execution_count": null,
      "outputs": []
    }
  ],
  "metadata": {
    "colab": {
      "collapsed_sections": [],
      "provenance": []
    },
    "kernelspec": {
      "display_name": "Python 3 (ipykernel)",
      "language": "python",
      "name": "python3"
    },
    "language_info": {
      "codemirror_mode": {
        "name": "ipython",
        "version": 3
      },
      "file_extension": ".py",
      "mimetype": "text/x-python",
      "name": "python",
      "nbconvert_exporter": "python",
      "pygments_lexer": "ipython3",
      "version": "3.9.12"
    }
  },
  "nbformat": 4,
  "nbformat_minor": 0
}