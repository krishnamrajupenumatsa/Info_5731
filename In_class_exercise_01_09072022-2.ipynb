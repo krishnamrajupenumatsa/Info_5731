{
  "cells": [
    {
      "cell_type": "markdown",
      "metadata": {
        "id": "view-in-github"
      },
      "source": [
        "<a href=\"https://colab.research.google.com/github/unt-iialab/INFO5731_Spring2020/blob/master/In_class_exercise/In_class_exercise_01.ipynb\" target=\"_parent\"><img src=\"https://colab.research.google.com/assets/colab-badge.svg\" alt=\"Open In Colab\"/></a>"
      ]
    },
    {
      "cell_type": "markdown",
      "metadata": {
        "id": "DymRJbxDBCnf"
      },
      "source": [
        "# **The first In-class-exercise (09/07/2022, 40 points in total)**"
      ]
    },
    {
      "cell_type": "markdown",
      "metadata": {
        "id": "03jb4GZsBkBS"
      },
      "source": [
        "(1) Write a Python program to calculate the length of a string. (4 points)"
      ]
    },
    {
      "cell_type": "code",
      "execution_count": 31,
      "metadata": {
        "colab": {
          "base_uri": "https://localhost:8080/"
        },
        "id": "YaGLbSHHB8Ej",
        "outputId": "bc5f9d04-1c68-4fee-c5d1-bef7f4e147c5"
      },
      "outputs": [
        {
          "output_type": "stream",
          "name": "stdout",
          "text": [
            "Enter string : Raju\n",
            "Length of the string is : 4\n"
          ]
        }
      ],
      "source": [
        "# write your answer here\n",
        "string = input(\"Enter string : \")\n",
        "leng = len(string)\n",
        "print(\"Length of the string is :\",leng)"
      ]
    },
    {
      "cell_type": "markdown",
      "metadata": {
        "id": "jJDe71iLB616"
      },
      "source": [
        "(2) Write a Python program to count the number of characters in a string. (4 points)\n",
        "\n",
        "Sample String : 'google.com‘, \n",
        "\n",
        "Expected Result : {'o': 3, 'g': 2, '.': 1, 'e': 1, 'l': 1, 'm': 1, 'c': 1}"
      ]
    },
    {
      "cell_type": "code",
      "execution_count": 3,
      "metadata": {
        "colab": {
          "base_uri": "https://localhost:8080/"
        },
        "id": "MtKskTzbCLaU",
        "outputId": "e8778673-7e21-4fb1-ebc3-39da243fdddb"
      },
      "outputs": [
        {
          "output_type": "stream",
          "name": "stdout",
          "text": [
            "{'g': 2, 'o': 3, 'l': 1, 'e': 1, '.': 1, 'c': 1, 'm': 1}\n"
          ]
        }
      ],
      "source": [
        "# write your answer here\n",
        "def fr(str):\n",
        "    dict = {}\n",
        "    for z in str:\n",
        "        keys = dict.keys()\n",
        "        if z in keys:\n",
        "            dict[z] += 1\n",
        "        else:\n",
        "            dict[z] = 1\n",
        "    return dict\n",
        "print(fr('google.com'))"
      ]
    },
    {
      "cell_type": "markdown",
      "metadata": {
        "id": "55W9AMdXCSpV"
      },
      "source": [
        "(3) Write a Python program to sum all the items in a list. (4 points)"
      ]
    },
    {
      "cell_type": "code",
      "execution_count": 35,
      "metadata": {
        "colab": {
          "base_uri": "https://localhost:8080/"
        },
        "id": "I57NXsauCec2",
        "outputId": "9f8b2f1e-f7c7-4c99-af34-77d1f384da4d"
      },
      "outputs": [
        {
          "output_type": "stream",
          "name": "stdout",
          "text": [
            "Sum of all elements in given list: 65 \n"
          ]
        }
      ],
      "source": [
        "# write your answer here\n",
        "Res = 0\n",
        "Lis = [11,12,13,14,15]\n",
        "le = len(Lis)\n",
        "for ele in range(0, le):\n",
        "    Res = Res + Lis[ele]\n",
        "print(\"Sum of all elements in given list: {0} \".format(Res))"
      ]
    },
    {
      "cell_type": "markdown",
      "metadata": {
        "id": "4ulBZ6yhCi9F"
      },
      "source": [
        "(4) Write a Python program to get a string from a given string where all occurrences of its first char have been changed to '\\$', except the first char itself. (4 points)\n",
        "\n",
        "Sample String : 'restart‘, \n",
        "\n",
        "Expected Result : 'resta\\$t'"
      ]
    },
    {
      "cell_type": "code",
      "execution_count": 6,
      "metadata": {
        "colab": {
          "base_uri": "https://localhost:8080/"
        },
        "id": "Fj0XhwbBCw2o",
        "outputId": "7e51430a-dce3-4f66-a632-fb52df1184bd"
      },
      "outputs": [
        {
          "output_type": "stream",
          "name": "stdout",
          "text": [
            "Enter a string : restart\n",
            "New Output is : resta$t\n"
          ]
        }
      ],
      "source": [
        "# write your answer here\n",
        "samp_str = str(input(\"Enter a string : \"))\n",
        "exp_res = samp_str[0]\n",
        "for char in samp_str[1:]:\n",
        "    if char == samp_str[0]:\n",
        "        exp_res+=\"$\"\n",
        "    else:\n",
        "        exp_res+=char\n",
        "\n",
        "print(\"New Output is : {0}\".format(exp_res))\n",
        "\n"
      ]
    },
    {
      "cell_type": "markdown",
      "metadata": {
        "id": "_bIP7s1MCzue"
      },
      "source": [
        "(5) Write a program with python which could accept two parameter a and b to calculate and output the result of S, where \n",
        "\n",
        "$\\ S=3.14*(1+a/b)^3$ (4 points)\n",
        "\n"
      ]
    },
    {
      "cell_type": "code",
      "execution_count": 7,
      "metadata": {
        "colab": {
          "base_uri": "https://localhost:8080/"
        },
        "id": "w79QilHXD3Mg",
        "outputId": "3dd1e5a6-c274-4747-b77e-ba5e370c2acf"
      },
      "outputs": [
        {
          "output_type": "stream",
          "name": "stdout",
          "text": [
            "Enter a value : 2\n",
            "Enter b value : 3\n",
            "Res : 14.537037037037033\n"
          ]
        }
      ],
      "source": [
        "# write your answer here\n",
        "k = int(input(\"Enter a value : \"))\n",
        "l = int(input(\"Enter b value : \"))\n",
        "h = 1 + k/l\n",
        "d = 3.14 * (h)**3\n",
        "print(\"Res : {0}\".format(d))\n"
      ]
    },
    {
      "cell_type": "markdown",
      "metadata": {
        "id": "xCa2bK9aD4Q3"
      },
      "source": [
        "(6) Write a Python program to concatenate following dictionaries to create a new one. (4 points)\n",
        "\n",
        "Sample Dictionary : dic1={1:10, 2:20}, dic2={3:30, 4:40}, dic3={5:50,6:60}, \n",
        "\n",
        "Expected Result : {1: 10, 2: 20, 3: 30, 4: 40, 5: 50, 6: 60}\n"
      ]
    },
    {
      "cell_type": "code",
      "execution_count": 8,
      "metadata": {
        "colab": {
          "base_uri": "https://localhost:8080/"
        },
        "id": "_z4aLqAbEET1",
        "outputId": "a189b7ec-a87a-413d-b8fd-c4e57f4a1cf0"
      },
      "outputs": [
        {
          "output_type": "stream",
          "name": "stdout",
          "text": [
            "{1: 10, 2: 20, 3: 30, 4: 40, 5: 50, 6: 60}\n"
          ]
        }
      ],
      "source": [
        "# write your answer here\n",
        "dic1={1:10, 2:20}\n",
        "dic2={3:30, 4:40}\n",
        "dic3={5:50,6:60}\n",
        "final_dict = {} \n",
        "for d in (dic1, dic2, dic3):\n",
        "  final_dict. update (d)\n",
        "\n",
        "print(final_dict)"
      ]
    },
    {
      "cell_type": "markdown",
      "metadata": {
        "id": "0v48Vqa7FrQh"
      },
      "source": [
        "(7) Write a Python program to check whether an element exists within a tuple. (4 points)"
      ]
    },
    {
      "cell_type": "code",
      "execution_count": 11,
      "metadata": {
        "colab": {
          "base_uri": "https://localhost:8080/"
        },
        "id": "7WEmgq-DF2P1",
        "outputId": "362a1273-2fd7-4487-ceb3-f562b7d73fc7"
      },
      "outputs": [
        {
          "output_type": "stream",
          "name": "stdout",
          "text": [
            "Enter the number to search : 7\n",
            "Does the tuple have 7 ? False\n"
          ]
        }
      ],
      "source": [
        "# write your answer here\n",
        "tp = (3,9,1,2,0)\n",
        "alpha = int(input(\"Enter the number to search : \"))\n",
        "ans = alpha in tp\n",
        "print(\"Does the tuple have\",alpha,\"?\",ans)"
      ]
    },
    {
      "cell_type": "markdown",
      "metadata": {
        "id": "vD5PYLMuGga_"
      },
      "source": [
        "(8) Write a Python program to find maximum and the minimum value in a set. (4 points)"
      ]
    },
    {
      "cell_type": "code",
      "execution_count": 13,
      "metadata": {
        "colab": {
          "base_uri": "https://localhost:8080/"
        },
        "id": "t0D5kdJUGjjw",
        "outputId": "3acf8ab8-e9d0-4bfc-c1fa-17fa293186bd"
      },
      "outputs": [
        {
          "output_type": "stream",
          "name": "stdout",
          "text": [
            "The maximum value of the set is 9 and minimum is 1\n"
          ]
        }
      ],
      "source": [
        "# write your answer here\n",
        "my_set = (3,9,1,4,8)\n",
        "maximum = max(my_set)\n",
        "minimum = min(my_set)\n",
        "print(\"The maximum value of the set is\",maximum,\"and minimum is\",minimum)"
      ]
    },
    {
      "cell_type": "markdown",
      "metadata": {
        "id": "uHkd-y5VhVWC"
      },
      "source": [
        "(9) Write a Python program to randomly divide the students in this class into six groups for term projects, each group should have at least 4 students but no more than 6 students (including 6). Here is the students list: (4 points)\n",
        "\n",
        "studnet_list = ['ja0964','sa1198','sb1357','vb0218','sc1229','kg0569','kg0470','sg1297','bg0320','fh0141','jl1252','sk1386',\n",
        "           'ak0956','sk1390','sk1458','sk1313','ak0934','vm0377','nm0618','sm1640','sm1907','gn0108','pr0353','dr0609','ms1500','aos0040','ds0814', 'av0659','nv0234','hy0232']"
      ]
    },
    {
      "cell_type": "code",
      "execution_count": 14,
      "metadata": {
        "colab": {
          "base_uri": "https://localhost:8080/"
        },
        "id": "3iGbmcOBhTwy",
        "outputId": "69c8fd79-0929-41cf-b659-6584da11510d"
      },
      "outputs": [
        {
          "output_type": "stream",
          "name": "stdout",
          "text": [
            "['gn0108', 'kg0569', 'sc1229', 'aos0040', 'sm1640']\n",
            "['ak0934', 'kg0470', 'sk1386', 'av0659', 'dr0609', 'fh0141']\n",
            "['sk1313', 'ms1500', 'sb1357', 'bg0320']\n",
            "['ds0814', 'hy0232', 'vm0377', 'sg1297', 'sk1458', 'nm0618']\n",
            "['sa1198', 'sk1390', 'ja0964', 'nv0234', 'vb0218']\n",
            "['ak0956', 'pr0353', 'jl1252', 'sm1907']\n"
          ]
        }
      ],
      "source": [
        "# write your answer here\n",
        "import numpy as np, random\n",
        "studnet_list = ['ja0964','sa1198','sb1357','vb0218','sc1229','kg0569','kg0470','sg1297','bg0320','fh0141','jl1252','sk1386', 'ak0956','sk1390','sk1458','sk1313','ak0934','vm0377','nm0618','sm1640','sm1907','gn0108','pr0353','dr0609','ms1500','aos0040','ds0814', 'av0659','nv0234','hy0232']\n",
        "len_str =[5, 6, 4, 6, 5, 4]\n",
        "answer = []\n",
        "for length in len_str:\n",
        "  batch = random.sample(studnet_list, length)\n",
        "  studnet_list = list(set(studnet_list) ^ set(batch))\n",
        "  answer = answer + [batch]\n",
        "    \n",
        "for line in answer:\n",
        "    print(line, end= '\\n')"
      ]
    },
    {
      "cell_type": "markdown",
      "metadata": {
        "id": "2vR69Qalq5tF"
      },
      "source": [
        "(10) Write a Python program to find the duplicate elements in a given array of integers. Return -1 If there are no such elements. (4 points)"
      ]
    },
    {
      "cell_type": "code",
      "execution_count": 17,
      "metadata": {
        "colab": {
          "base_uri": "https://localhost:8080/"
        },
        "id": "NB9Hb2euq5tF",
        "outputId": "f48920f7-5cec-4967-fd49-a56e6b5e340f"
      },
      "outputs": [
        {
          "output_type": "stream",
          "name": "stdout",
          "text": [
            "-1\n"
          ]
        }
      ],
      "source": [
        "# write your answer here\n",
        "def duplicate1(numbers):\n",
        "    numbers_set = set()\n",
        "    no_dup = -1\n",
        "    length = len(numbers)\n",
        "    for k in range(length):\n",
        "        if numbers[k] in numbers_set:\n",
        "            return numbers[k]\n",
        "        else:\n",
        "            numbers_set.add(numbers[k])\n",
        "    return no_dup\n",
        "print(duplicate1([5, 3, 1, 4, 9, 8]))\n"
      ]
    },
    {
      "cell_type": "markdown",
      "metadata": {
        "id": "OzUoA0czq5tG"
      },
      "source": [
        "(11) Write a Python program to select all the Sundays of a specified year. (4 extra points)"
      ]
    },
    {
      "cell_type": "code",
      "execution_count": 44,
      "metadata": {
        "colab": {
          "base_uri": "https://localhost:8080/"
        },
        "id": "m7BWMYQPq5tG",
        "outputId": "aa654df1-3436-4292-a692-ebf17a684292"
      },
      "outputs": [
        {
          "output_type": "stream",
          "name": "stdout",
          "text": [
            "Enter year : 2012\n",
            "2012-01-01\n",
            "2012-01-08\n",
            "2012-01-15\n",
            "2012-01-22\n",
            "2012-01-29\n",
            "2012-02-05\n",
            "2012-02-12\n",
            "2012-02-19\n",
            "2012-02-26\n",
            "2012-03-04\n",
            "2012-03-11\n",
            "2012-03-18\n",
            "2012-03-25\n",
            "2012-04-01\n",
            "2012-04-08\n",
            "2012-04-15\n",
            "2012-04-22\n",
            "2012-04-29\n",
            "2012-05-06\n",
            "2012-05-13\n",
            "2012-05-20\n",
            "2012-05-27\n",
            "2012-06-03\n",
            "2012-06-10\n",
            "2012-06-17\n",
            "2012-06-24\n",
            "2012-07-01\n",
            "2012-07-08\n",
            "2012-07-15\n",
            "2012-07-22\n",
            "2012-07-29\n",
            "2012-08-05\n",
            "2012-08-12\n",
            "2012-08-19\n",
            "2012-08-26\n",
            "2012-09-02\n",
            "2012-09-09\n",
            "2012-09-16\n",
            "2012-09-23\n",
            "2012-09-30\n",
            "2012-10-07\n",
            "2012-10-14\n",
            "2012-10-21\n",
            "2012-10-28\n",
            "2012-11-04\n",
            "2012-11-11\n",
            "2012-11-18\n",
            "2012-11-25\n",
            "2012-12-02\n",
            "2012-12-09\n",
            "2012-12-16\n",
            "2012-12-23\n",
            "2012-12-30\n"
          ]
        }
      ],
      "source": [
        "from datetime import date, timedelta\n",
        "year = int(input(\"Enter year : \"))\n",
        "def total_sun(year):\n",
        "       de = date(year, 1, 1)       \n",
        "       de += timedelta(days = 6 - de.weekday())  \n",
        "       while de.year == year:\n",
        "          yield de\n",
        "          de += timedelta(days = 7)\n",
        "          \n",
        "for k in total_sun(year):\n",
        "   print(k)"
      ]
    },
    {
      "cell_type": "code",
      "source": [],
      "metadata": {
        "id": "2speka1mB3r9"
      },
      "execution_count": null,
      "outputs": []
    }
  ],
  "metadata": {
    "colab": {
      "collapsed_sections": [],
      "provenance": []
    },
    "kernelspec": {
      "display_name": "Python 3 (ipykernel)",
      "language": "python",
      "name": "python3"
    },
    "language_info": {
      "codemirror_mode": {
        "name": "ipython",
        "version": 3
      },
      "file_extension": ".py",
      "mimetype": "text/x-python",
      "name": "python",
      "nbconvert_exporter": "python",
      "pygments_lexer": "ipython3",
      "version": "3.9.12"
    }
  },
  "nbformat": 4,
  "nbformat_minor": 0
}