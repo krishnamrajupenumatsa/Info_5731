{
  "cells": [
    {
      "cell_type": "markdown",
      "metadata": {
        "id": "qNY5ipw9K2Kt"
      },
      "source": [
        "# **The fourth in-class-exercise (40 points in total, 11/03/2022)**"
      ]
    },
    {
      "cell_type": "markdown",
      "metadata": {
        "id": "MfBaFg4hK2Ku"
      },
      "source": [
        "Question description: Please use the text corpus you collected in your last in-class-exercise for this exercise. Perform the following tasks:"
      ]
    },
    {
      "cell_type": "markdown",
      "metadata": {
        "id": "2WzghTlAK2Kv"
      },
      "source": [
        "## (1) (10 points) Generate K topics by using LDA, the number of topics K should be decided by the coherence score, then summarize what are the topics. You may refer the code here: \n",
        "\n",
        "https://www.machinelearningplus.com/nlp/topic-modeling-gensim-python/"
      ]
    },
    {
      "cell_type": "code",
      "execution_count": null,
      "metadata": {
        "id": "1X_we1uxK2Kv"
      },
      "outputs": [],
      "source": [
        "# Write your code here\n",
        "\n",
        "import pandas as pd\n",
        "import os\n",
        "import numpy as np\n",
        "\n",
        "from pprint import pprint\n",
        "\n",
        "# Gensim\n",
        "import gensim\n",
        "import gensim.corpora as corpora\n",
        "from gensim.utils import simple_preprocess\n",
        "from gensim.models import CoherenceModel\n",
        "\n",
        "# spacy for lemmatization\n",
        "import spacy\n",
        "\n",
        "# Plotting tools\n",
        "import pyLDAvis\n",
        "pyLDAvis.enable_notebook()\n",
        "import pyLDAvis.gensim_models as gensimvis  # don't skip this\n",
        "import matplotlib.pyplot as plt\n",
        "%matplotlib inline\n",
        "\n"
      ]
    },
    {
      "cell_type": "code",
      "execution_count": null,
      "metadata": {
        "id": "FbOzBzLDK2Kw"
      },
      "outputs": [],
      "source": [
        "!pip install pyLDAvis\n",
        "\n",
        "!pip install gensim"
      ]
    },
    {
      "cell_type": "markdown",
      "metadata": {
        "id": "RMDhB47HK2Kw"
      },
      "source": [
        "## Fetching data"
      ]
    },
    {
      "cell_type": "code",
      "execution_count": null,
      "metadata": {
        "id": "QyatCNcvK2Kw"
      },
      "outputs": [],
      "source": [
        "import random\n",
        "import imdb\n",
        "\n",
        "ia = imdb.IMDb()\n",
        "\n",
        "import pandas as pd\n"
      ]
    },
    {
      "cell_type": "code",
      "execution_count": null,
      "metadata": {
        "id": "9iEBV0pRK2Kx"
      },
      "outputs": [],
      "source": [
        "\n",
        "#Fetching the required features data for 100 films\n",
        "cnt=0\n",
        "main_list = []\n",
        "while cnt!=100:\n",
        "    movie_id = random.randrange(10000,200000)\n",
        "\n",
        "    try:\n",
        "        search_results = ia.get_movie(str(movie_id)).data\n",
        "        localized_title = search_results['localized title']\n",
        "        film_outline = search_results['plot outline']\n",
        "        cnt = cnt+1\n",
        "        print(cnt)\n",
        "    except:\n",
        "        continue\n",
        "    \n",
        "    temp_dict = {\"title\":localized_title,\"film_outline\":film_outline}\n",
        "    main_list.append(temp_dict)\n",
        "\n",
        "data = pd.DataFrame(main_list)\n",
        "\n",
        "data.to_csv(\"outline_data.csv\",index = False)"
      ]
    },
    {
      "cell_type": "code",
      "execution_count": null,
      "metadata": {
        "id": "Zfy2w49JK2Kx"
      },
      "outputs": [],
      "source": [
        "data = pd.read_csv(\"outline_data.csv\")"
      ]
    },
    {
      "cell_type": "code",
      "execution_count": null,
      "metadata": {
        "id": "d9I9mJ51K2Kx",
        "outputId": "96b31ab2-dc78-49c6-e71e-89d68d0a9493"
      },
      "outputs": [
        {
          "data": {
            "text/html": [
              "<div>\n",
              "<style scoped>\n",
              "    .dataframe tbody tr th:only-of-type {\n",
              "        vertical-align: middle;\n",
              "    }\n",
              "\n",
              "    .dataframe tbody tr th {\n",
              "        vertical-align: top;\n",
              "    }\n",
              "\n",
              "    .dataframe thead th {\n",
              "        text-align: right;\n",
              "    }\n",
              "</style>\n",
              "<table border=\"1\" class=\"dataframe\">\n",
              "  <thead>\n",
              "    <tr style=\"text-align: right;\">\n",
              "      <th></th>\n",
              "      <th>title</th>\n",
              "      <th>film_outline</th>\n",
              "    </tr>\n",
              "  </thead>\n",
              "  <tbody>\n",
              "    <tr>\n",
              "      <th>0</th>\n",
              "      <td>What's Up, Doc?</td>\n",
              "      <td>Two researchers have come to San Francisco to ...</td>\n",
              "    </tr>\n",
              "    <tr>\n",
              "      <th>1</th>\n",
              "      <td>Murder on the Blackboard</td>\n",
              "      <td>There are plenty of guilty secrets at the scho...</td>\n",
              "    </tr>\n",
              "    <tr>\n",
              "      <th>2</th>\n",
              "      <td>Szél</td>\n",
              "      <td>During a film course lead by Yvette Biro at th...</td>\n",
              "    </tr>\n",
              "    <tr>\n",
              "      <th>3</th>\n",
              "      <td>The Herd</td>\n",
              "      <td>Because of a local blood feud, a peasant famil...</td>\n",
              "    </tr>\n",
              "    <tr>\n",
              "      <th>4</th>\n",
              "      <td>It's Now or Never</td>\n",
              "      <td>A lonely sheep farmer in his fifties employs t...</td>\n",
              "    </tr>\n",
              "    <tr>\n",
              "      <th>...</th>\n",
              "      <td>...</td>\n",
              "      <td>...</td>\n",
              "    </tr>\n",
              "    <tr>\n",
              "      <th>95</th>\n",
              "      <td>Jailbait Babysitter</td>\n",
              "      <td>Vicki is 17 and her older friends call her Jai...</td>\n",
              "    </tr>\n",
              "    <tr>\n",
              "      <th>96</th>\n",
              "      <td>Jönssonligan &amp; den svarta diamanten</td>\n",
              "      <td>Sickan, the leader of the criminal Jönsson gan...</td>\n",
              "    </tr>\n",
              "    <tr>\n",
              "      <th>97</th>\n",
              "      <td>Women Without Men</td>\n",
              "      <td>Women without men can have lots of fun with ea...</td>\n",
              "    </tr>\n",
              "    <tr>\n",
              "      <th>98</th>\n",
              "      <td>A War Story</td>\n",
              "      <td>Major Ben Wheeler was a Canadian doctor assign...</td>\n",
              "    </tr>\n",
              "    <tr>\n",
              "      <th>99</th>\n",
              "      <td>Manhattan Parade</td>\n",
              "      <td>The John Roberts Costume Company is being run ...</td>\n",
              "    </tr>\n",
              "  </tbody>\n",
              "</table>\n",
              "<p>100 rows × 2 columns</p>\n",
              "</div>"
            ],
            "text/plain": [
              "                                  title  \\\n",
              "0                       What's Up, Doc?   \n",
              "1              Murder on the Blackboard   \n",
              "2                                  Szél   \n",
              "3                              The Herd   \n",
              "4                     It's Now or Never   \n",
              "..                                  ...   \n",
              "95                  Jailbait Babysitter   \n",
              "96  Jönssonligan & den svarta diamanten   \n",
              "97                    Women Without Men   \n",
              "98                          A War Story   \n",
              "99                     Manhattan Parade   \n",
              "\n",
              "                                         film_outline  \n",
              "0   Two researchers have come to San Francisco to ...  \n",
              "1   There are plenty of guilty secrets at the scho...  \n",
              "2   During a film course lead by Yvette Biro at th...  \n",
              "3   Because of a local blood feud, a peasant famil...  \n",
              "4   A lonely sheep farmer in his fifties employs t...  \n",
              "..                                                ...  \n",
              "95  Vicki is 17 and her older friends call her Jai...  \n",
              "96  Sickan, the leader of the criminal Jönsson gan...  \n",
              "97  Women without men can have lots of fun with ea...  \n",
              "98  Major Ben Wheeler was a Canadian doctor assign...  \n",
              "99  The John Roberts Costume Company is being run ...  \n",
              "\n",
              "[100 rows x 2 columns]"
            ]
          },
          "execution_count": 4,
          "metadata": {},
          "output_type": "execute_result"
        }
      ],
      "source": [
        "data"
      ]
    },
    {
      "cell_type": "code",
      "execution_count": null,
      "metadata": {
        "id": "4EIEYW9XK2Ky"
      },
      "outputs": [],
      "source": [
        "total_text = data.film_outline.tolist()"
      ]
    },
    {
      "cell_type": "code",
      "execution_count": null,
      "metadata": {
        "id": "jAWtIVnAK2Ky",
        "outputId": "e5e3fa86-4d02-4229-f42c-e211278bdbab"
      },
      "outputs": [
        {
          "data": {
            "text/plain": [
              "['Two researchers have come to San Francisco to compete for a research grant in Music. One seems a bit distracted, and that was before he meets her. A strange woman seems to have devoted her life to confusing and embarassing him. At the same time a woman has her jewels stolen and a government whistle blower arrives with his stolen top secret papers. All, of course have the same style and color overnight bag.',\n",
              " 'There are plenty of guilty secrets at the school where Hildegarde Withers teaches. When she finds the body of the pretty music teacher, she calls in her old friend Inspector Piper, who promptly arrests the obvious suspect. Clues multiply and everyone looks suspicious as Piper and Miss Withers continue their battle of the sexes.',\n",
              " 'During a film course lead by Yvette Biro at the Hungarian Academy of Drama and film in 1995, the director students were shown a black-and-white photo taken by Lucien Herve in 1952, and they were given the task of writing a short film based on it. Three women are standing at the outskirts of a village, looking out of the picture in the same direction. This six-minute one-shot film shows what the Herve photo does not.',\n",
              " \"Because of a local blood feud, a peasant family in eastern Turkey decides to sell its sheep - a most precious commodity - in far away Ankara. During their long train ride, bribes must be paid to petty officials, sheep are stolen or die in the packed, airless, contaminated wagons, and the sick wife of one of the family's sons becomes deathly ill.\",\n",
              " 'A lonely sheep farmer in his fifties employs the services of a matchmaker to find a wife. Out in his small country farm-house in the super green fields of Ireland with his dog \"Rowd,\" he makes up his mind and spruces up his life for new love.',\n",
              " \"A pretty young socialite falls for a charming but shady hustler who abandons her when he finds that she has been disowned by her wealthy father. Three of the hustler's partners, who have also been left high and dry by their former associate, come up with a plan to get her to the annual Yale-Harvard football game to reunite with her former sweetheart, an honest but nerdy bookworm.\",\n",
              " 'Nightime soap opera involving The Yellow Rose, a two hundred thousand acre ranch in Texas operated by the children of the founder, Wade Champion. His sons (Roy and Quisto) and his twenty-nine-year-old widow, Colleen run the ranch when they are not fighting each other.',\n",
              " 'Cutey\\'s sweetheart Dot\\'s father forbids him to ever speak to her again. While reading in the paper of a family quarantined by smallpox, Cutey has a brilliant idea: he tells the cook that she is to be afflicted suddenly with a serious illness while bringing his dinner that night; that Dot is to run for him, who will be disguised as a doctor, and that when he comes he will pronounce the case as smallpox and, in accordance with medical laws, he will inform the authorities--two of his friends dressed as police officers--who will order the house quarantined. His scheme is carried out to the letter and progresses splendidly until Dot\\'s papa and mama, sitting by the drawing-room window, overhear the two \"policemen\" talking about the scheme. Papa rushes up to the room where he finds the \"sick\" cook drinking and Cutey and Dot \"mushing.\" He throws Cutey out of the window and he lands on his friends\\' heads. Dot starts to cry, knowing it will be a long time before she can see Cutey again.',\n",
              " 'George and Joan are going out for the night. George tells Spike to keep an eye on the house while they are away. Butch the cat, who is also owned by George and Joan, telephones his friends Lightning, Topsy, and Meathead (who is for some reason portrayed as a gray cat instead of a brown cat with a red toupee) to come to a party at his house. And hi-jinx ensue.',\n",
              " 'Police inspector Karan Srivastav and his colleague inspector Ali are investigating the murder of inspector Rane. They manage to locate an eyewitness who is a bar dancer named Anjali. When the perpetrators headed by Changez Lala learn about this, their objective is to silence Anjali forever. Karan takes Anjali to a safe place far away from the city. Matters take a turn for the worse one day when Karan is suspended from duty leaving the way all clear for Lala and his men to carry out their nefarious activities without any interference from the police.',\n",
              " \"During the Second World War, tens of thousands of blonde, blue-eyed Polish children were snatched from their parents and given to German families. Lebensborn was part of Hitler's plan to expand the Aryan master race within the Third Reich. In 'The Road Home', eight-year old Jerzy returns home at the end of the war to a joyful reunion with his long-lost mother and grandfather. But problems arise as he is taunted by his peers and, longing for his missing father, burns with resentment for his new communist stepfather.\",\n",
              " 'Donald re-paints his car, and a bird lands on it. In the mayhem that ensues, the car ends up covered with handprints, spotted a dozen different colors, stripped of paint, and covered with the stuffing from the seats so that it resembles a sheepdog.',\n",
              " 'Mathilde, a snobbish and lonely Parisian teenager has a hard time getting used to Elsie, the lively African-American au pair girl her mother hired. Unexpectedly, a close friendship blossoms with this \"Amerloque\" (a pejorative word for a United States national) and Mathilde opens up to a new world of friends. A quarrel between the mother and Elsie brings the latter out of the picture, and Mathilde\\'s world falls down again... unless she can help Elsie solve her other really major family problem.',\n",
              " \"Ram Bowen and Eddie Cook are two expatriate jazz musicians living in Paris where, unlike the U.S. at the time, jazz musicians are celebrated, and racism is a non-issue. When they meet and fall in love with two young American girls, Lillian and Connie, who are vacationing in France, Ram and Eddie must decide whether they should move back to the U.S. with them or stay in Paris for the freedom it allows them. Ram, who wants to be a serious composer, finds Paris too exciting and is reluctant to give up his music for a relationship, and Eddie wants to stay for the city's more tolerant racial atmosphere.\",\n",
              " \"A schoolmaster finds an unconscious young man on his doorstep, takes him in and looks after him. A firm friendship develops between the stranger and the headmaster's children, Bernard and Jean and their friend Peter, and this leads to them discovering the stranger's secret - that he is from another planet and has been sent to find a new home on Earth for his people. The stranger, Adam, is joined by fellow alien, Varossa. They live in a society without books where they memorise everything. In the second series the children have to enlist the help of the Australian Prime Minister when Peter is kidnapped by the alien, and a procession of intrigues eventually leads them to the aliens' home planet of Soshuniss.\",\n",
              " 'Gaston Villaret ,a lady killer who\\'s got many a mistress (one of them being particularly jealous) ,saves a girl,Lucie, who wanted to commit suicide ,cause her boss she is in love with has just fired her (because ,he tells his mother,\"I wanted to marry her ,but I could not marry my secretary ,so I had to dismiss her!\"). Lucie turns the house of chic dandy Gaston upside down!She\\'s really a nuisance to live with at home and one wonders why this man -who anyway could be her father- wants to marry her .',\n",
              " \"In the wake of Spock's ultimate deed of sacrifice, Admiral Kirk and the Enterprise crew return to Earth for some essential repairs to their ship. When they arrive at Spacedock, they are shocked to discover that the Enterprise is to be decommissioned. Even worse, Dr. McCoy begins acting strangely and Scotty has been reassigned to another ship. Kirk is forced to steal back the Enterprise and head across space to the Genesis Planet to save Spock and bring him to Vulcan. Unbeknownst to them, the Klingons are planning to steal the secrets of the Genesis Device for their own deadly purpose.\",\n",
              " \"Frank, an auto mechanic, witnesses the love of his life's demise at the hands of a drunk driver. Frank lets loose his rage, and kills the man. He then goes to prison, where he is framed for the murder of a fellow inmate. Frank sees escape as the only possible way to find out all the answers in the convoluted plot to kill that inmate, and find the proof to convict the true killers.\",\n",
              " \"A dying Marshal gives Tom his identification papers to Tom. After Tom arrives in town, the papers drop and are found during a fight, so Tom decides to assume the Marshal's identity. Chief Mason now sends Rattler, the Marshal's killer, to follow up by killing Tom. But when he overhears that Tom is a fake, they change their plans and go to arrest Tom for Marshal's murder.\",\n",
              " \"Easter, a soldier of fortune and gunrunner, leaves his family behind escaping from the authorities and an American detective named Mason. His globe hopping escape leads him finally to South America, where he is hired to organize a band of revolutionaries, unaware that they plan to eliminate him when his job is done. Here, also, he encounters his own son, on track to waste his own life in pursuits similar to Easter's.\",\n",
              " 'Ellen Hallet is in love with her playboy boss, Douglas Morrison, but too timid to do anything about it. Her roommate Chris devises a plan to help her: she follows Morrison on his trip to Sun Valley, Idaho and plays the overattentive female, hoping he\\'ll send for Ellen, who often plays his \"fiancée\" when he has a female he can\\'t discourage otherwise. Complications arise when Chris catches the eye of band leader Dick Layn and lands in a triangle with the two men.',\n",
              " \"In San Francisco, Ramon Laredo, a wealthy young socialite, meets Moran, a strong and unconventional girl, on his way to a yachting party. Later, Ramon is drugged, shanghaied, and taken aboard a smuggling schooner bound for Mexico. On board, he suffers from the brutality of Captain Kitchell. Moran's ship, the Lady Letty, catches fire and is boarded by Kitchell's men; Ramon discovers the girl dressed as a man, the only survivor of the crew, and keeps her identity a secret from the captain. Arriving in Mexico, Ramon and Kitchell find a treasure on the beach, and Kitchell plots to gain possession of both the money and Moran, whom he perceives to be a girl. A fight on the schooner between Ramon and the crew and Kitchell and his smugglers results in the captain's subjugation; Ramon takes command, and the ship returns to San Francisco. There, Kitchell escapes and attacks Moran, who is saved by Ramon while Kitchell is drowned. Ramon embraces Moran and announces his plans to marry her.\",\n",
              " 'This unique and thought-provoking documentary delves into the conflict between the art and business of filmmaking as it is enacted on the \"battlefield\" of Hollywood. Through a series of interviews with people working in all aspects of the movie industry - from films with budgets ranging from $20,000 to multi-million dollar projects, to people who are struggling to become a \"player\" in the business, Swiss writer/director Michael Beltrami takes an incisive, hard-hitting look at a medium where artistic vision must often conform to the dictates of business.',\n",
              " \"A witch is put to death in Colonial America, leaving her husband and infant daughter behind. Seventeen years later, the daughter has grown up and stands to inherit money set up by her mother's family. Now that the stage is set, the mother wants to return to life by taking over her daughter's body.\",\n",
              " 'A young couple have been married for some time and their love life has become a bit monotonous. But from their friends Elaine and Gerry they hear about a club where most things happen. A visit there by the four of them turns out to be not so monotonous...',\n",
              " \"1952: Bishop Bilodeau visits a québécois prison to hear the confession of a boyhood friend jailed for murder 40 years ago. The inmates force the prelate to watch a play depicting what really happened in 1912. We meet him as a young man, strait-laced, intent on convincing Simon (now the convict) to join the seminary with him. Vallier, the son of an impoverished and eccentric countess, loves Simon and he is drawn to Vallier, but in fear of his father's wrath for kissing Vallier during drama rehearsal, Simon courts a visiting Parisian, asking her to marry him. Vallier, encouraged by his mother, attends the engagement party to declare his love for Simon. And what does the watchful Bilodeau do?\",\n",
              " \"A radio repoter begins to suspect that a commentator at his station may be using her position to broadcast shipping information to enemy spies. With the help of the girl's sister, he sets out to expose the spy and her Nazi gang.\",\n",
              " \"In a small country there is a king who, at 45 years of age, is still single. Then the prime minister decides to marry him to Princess Julia. She is immediately ordered home by her mother, Princess Ilonka. The two of them miss each other at the train station, and Julia meets a young man who she likes very much. While she is having fun with him in the fairground, it is announced that she is the royal bride. She runs away in shock. Disappointed, Franz throws the last bangs out of the window, right in front of the king's car and is arrested as an assassin. To avoid his engagement, the king goes into hiding for a few days, and since Franz looks very much like him, he has to play him for a few days. In the meantime, Princess Julia and her mother have arrived.When King Franz faces his bride, both are overjoyed. But the real king takes his place again, but does not fall in love with Julia, but with her mother Ilonka - and the princess can marry her Franz.\",\n",
              " 'A documentary about the rise to fame of adult movie star Stacy Valentine. Starting out as an under-confident woman pushed into entering a Hustler Magazine contest by her domineering husband, Stacy quickly became more sure of herself after winning the contest, dumping the husband, and embarking upon a remarkably successful career in the unconventional field of hardcore porn movies. Although having attained a fair measure of success, her life is still not without disappointements, as her past has made it difficult for her to drop her emotional barriers and share a completely trusting relationship with others.',\n",
              " 'One hundred eleven episodes of this syndicated show were produced between 1956 and 1959, debuting in the US in January 1957. Chuck and P.T. own a helicopter company that is hired to perform all types of jobs. Janet Culver was the original secretary being replaced by Helen Carter in the second season.',\n",
              " \"Robert is a college student who doesn't want his parents to know that he's gotten married. Unfortunately, his wife and newborn child die and Robert finds himself being blackmailed by his wife's sister, with whom he previously had an affair and who now claims that he is the father of her daughter Rosalind. Robert gives in and pays her off. Ten years later, however, when Robert is about to marry again, the sister decides to show up at the wedding and publicly humiliate Robert.\",\n",
              " \"A departure from the traditional Playboy video fare. Title is shot entirely on the grounds of the Playboy Mansion, and includes some historic footage regarding the events that took place there. The Playmates explore the grounds, including: swimming in and sunning themselves beside the Grotto; roaming au naturel through Hef's private menagerie; playing a clothing-challenged game of tennis; relaxing with a full-body-massage and a hot shower; playing an impromptu game of strip poker; shooting pool, and celebrating good shots by disrobing; taking a nighttime dip in the Grotto; and engaging in a pillow fight, where the first casualties are their tiny outfits. Title switches between filmed segments and sequences shot on video (believed to be a first for Playboy).\",\n",
              " 'Slightly different than \"Batman: The Animated Series.\" The series takes place approximately three years after the last episode of Batman which ran on Fox. Dick Grayson has grown up taken the costumed identity of Nightwing, with Tim Drake taking over as Robin.',\n",
              " 'A domineering, reclusive and ostentatiously pious widow in a small Spanish town keeps such close watch on her daughters that they are unable to have normal social lives. However, the eldest is allowed to become engaged to an unprincipled young man, primarily for the financial advantages it will bring the mother, Bernarda. Jealousy and envy ensues among the other daughters.',\n",
              " \"Sergeant Benson (Ryan O'Neal) is a Police detective. After a series of murders in the gay community he is ordered to go undercover with a gay Police clerk named Kerwin (Sir John Hurt) as his partner. In order to be noticed, they have to be flamboyant enough to attract attention, which Benson finds rather disturbing. Can an uptight heterosexual and a mousey homosexual form a meaningful relationship?\",\n",
              " \"In the shadows of the night Dudley Wolff (Paul Harvey), his secretary Alfred Dunning (Robert Emmett Keane), and his doctor, Haggard (Henry Wilcoxon), bury a body in the estate cemetery. At the house, Wolff's daughter Catherine (Marjorie Weaver) arrives unexpectedly and tells her step-mother Anne Wolff (Helene Reynolds) that she has just been married to Roger Blake (Richard Derr) who will be along in a few days. Cathy retires and is awakened by a mysterious assailant who fires a shot at her, but her parents tell her she was just dreaming. Wolff goes to the cemetery and finds the body missing. The scared Cathy calls in fast-talking private detective Mike Shayne (Lloyd Nolan) and, since her father doesn't like detectives, she introduces him as her husband. That evening Shayne hears a shot and finds that Haggard has been killed. While the police are questioning the family, the lights go out and a shot is fired from outside.\",\n",
              " \"In Stockholm, on St. Lucy's feast day, a bandit daringly robs a crowded post office. Within a fortnight, two witnesses are dead. Two cops from vice squad, Johansson and Jarnebring, who were the first to the crime scene, pursue all leads and identify a suspect, an arrogant member of the elite secret police, a man assigned to guard the country's Minister of Justice. Just as the beat cops think they've tightened the noose around the suspect, loose ends appear, witnesses lose their certainty, alibis crop up, and even the cops doubt what they've seen. Who's protecting the suspect and why?\",\n",
              " \"Gabriel Knight (Tim Curry) is the owner of a New Orleans, Louisiana bookstore which specializes in rare books. He's also an aspiring writer, and a series of voodoo-related murders currently plaguing the city may be just the subject for his new book. In the course of researching these murders, he gets tangled up in the investigation.\",\n",
              " \"Johanna Harrington waits eagerly at her cottage on the edge of the jungle that flanks the Devil's Island penal colony for the arrival of her father Steve Garrington, her sweetheart Dario, and Andre Dion, an innocent convict. The three had made good their escape several day before. Andre arrives first with news that her father had been killed. He falls in love with Johanna and is in her arms several days later when Dario arrives. Furious, Dario turns Andre back into the jungle only to learn that it is he that Johanna really loves.\",\n",
              " \"The King Of Friday Night is a TV movie based on writer John Gray's play Rock'n Roll. It's based on a real group called The Lincoln's in the 60's who were based in Truro, Nova Scotia, Canada & tells the story of the group's break up and then, many years later , a successful reunion for one night. It was filmed on location in Truro and in a blue screen studio in Toronto. It won 7 international awards including the Banff TV Festival's Best Picture.\",\n",
              " 'Little Frankie Rogers lives on the wrong side of the tracks; his father is a drunkard and his mother is unable to support the family. After stealing a harmonica to play in his grammar school graduation recital, Frankie is sent to reform school, even though his teacher, Miss Williams, and classmate Carol Evans are convinced that he is a good boy. Frankie goes to reform school with dreams of leading a decent life, but those dreams are shattered when he is sentenced to the state penitentiary for slugging a trusty who was cruel to a fellow prisoner. His term completed, Frankie decides to go home to St. Mary, Ohio, and is accompanied by Jud Mason and Bert \"The Mouse\" Gatto, two friends from prison. Frankie finds that St. Mary has changed, however, and decides to move to Cleveland, where Carol has a struggling career as a singer. Carol convinces Frankie to settle down in Cleveland and get a job, but his plans go awry when, returning home one evening after a date with Carol, he learns that Jud and The Mouse have gone to rob a restaurant. Frankie rushes to stop them, but is too late, and arrives just as a man is killed. Frankie refuses to let Carol testify in his behalf and is convicted and sentenced to death. Meanwhile, Charley Smith, the only classmate of Frankie\\'s who has become financially successful, invites his old schoolmates to return to St. Mary for a reunion. Under a cloud of gloom, the class reassembles and Carol and former classmate John Shelley beg Charley to help Frankie, but he smugly refuses. Hearing of the reunion, Frankie escapes from his cell and speeds home, bursting into the schoolroom just as Carol denounces Charley for his lack of compassion. After urging Carol to forgive Charley, Frankie bids farewell to his old schoolmates and leaves the building. Moments later, the sound of gun shots signal Frankie\\'s death.',\n",
              " \"Ethan is a photographer in Los Angeles, still in his 20s, gay, and given to one-night stands that, despite his willingness, don't seem to last past the next morning. His friend Dennis invites him on a getaway to Palm Springs where other friends join them. In the course of the next few days, Dennis and Ethan's relationship goes through several changes as one plays the other, as feelings get hurt, and as Ethan witnesses other men's difficulties with jealousy, commitment, and honesty. To whom can Ethan turn for assurance? To his family, to long-time friends, to his art?\",\n",
              " \"Kara Ben-Nemsi, friends and rescuees set out to free a young relative of the guardian of the treasure of the Chaldaeans 'Christian sect), who is captured for that fabulous ransom. They discover the machradsh of Mossul isn't dead. Indeed he teamed up with local gangster leader Abu Saif, focusing on revenge viz. the gold. The governor even maneuvers to be reinstated and have Kara declared wanted by the padishah. Kara manages to undo all that and save the Chaldaean treasure.\",\n",
              " 'Thérèse Ravenaz is a charming young woman but also the victim of a seducer who abandoned her as soon as she told him that she was expecting his baby. To trace her unworthy lover, she boards a taxi driven by friendly cabdriver Emile Gauthier, who agrees to help her. But street after street, district after district, the seducer is nowhere to be found in Paris. And when she finally achieves the end of her quest, there is no Holy Grail. She learns that the rotter is already married. Fortunately, Emile has a heart of gold.',\n",
              " 'The planet Rosetta has been taken over by the Black Star army led by Captain Dagger. Takashi Shishido and his mother Rosemary escaped to Planet Earth after his father Gou was captured by Dagger, who is actually Takashi\\'s evil twin brother Hiroshi! While living peacefully on Earth, Takashi attends a kung-fu school in Japan, and has four friends, but they had no idea that he was from another planet, a secret only his martial arts teacher Takamine knew. But when Captain Dagger initiates his attack on Earth using his army of various giant monsters, Rosemary (who also goes by the civilian name \"Mari\") gives Takashi the Megalon-Bracelets, with which he can transform into the giant long-haired warrior Megaloman to fight the evil monsters for the protection of Earth. Early in the show, Takashi\\'s four martial arts school friends, Seiji Kurogawa (a tough, Bruce Lee-like fighter), Hyosuke Yuri (the comedy relief), Ran Takamine (Master Takamine\\'s daughter & Takashi\\'s girlfriend) and Ippei Saru (the little kid) discover his secret and Rosemary decides to invite them to join Takashi in battle. So she gives them their own Megalon Bracelets to transform into a quartet of multicolored martial arts super-warriors to fight alongside Takashi!',\n",
              " 'Jack Bardell, a British aviator in World War I, a dashing hero to all who know him, is discharged following an airplane crash that occurred under suspicious circumstances. Invalided to private life, to the shame of his father, Lord Bardell, he gets his chance for redemption during a German Zepplin attack over London. He puts on a good show.',\n",
              " 'Several people are killed in a London air raid. They each awake aboard a strange ship which will deliver each of them either to heaven or hell. Their lives and stories are revealed as they individually begin to realize where they are.',\n",
              " \"During the annual fair in the animal village of Champfleury, a good fairy's magic wand is stolen from its caretaker, Chassidou (a white Persian cat), by the wicked Black Genie (a monkey). The Black Genie becomes master of the elements, takes the fairy prisoner, and petrifies Barbara (a duck), the animal tamer. Saturnin (a duck), who is Barbara's lover, and Chassidou embark in a balloon, parachute to safety when shot down by the Black Genie, and, after overcoming many perils, arrive in the Land of the Doves, where they are immunized against the petrifying power of the wand. Enraged when his magic fails against the two, the Black Genie is accidentally petrified when he touches himself with the wand. The wand is recaptured, and happiness is restored in Champfleury.\",\n",
              " 'Fresh off the Mary Whitehouse Experience, Steve Punt and Hugh Dennis separated themselves from Rob Newman and David Baddiel for this sketch show. Not only did they bring back old characters (Milky Milky and Embarrassing Dad) but brought in new ones, like a man called Martin and World of Wine. It ran for two seasons and spawned the still running Radio 4 series \"The Now Show\"',\n",
              " 'In 1963, the night before the 18 years old \"Birdlace\" Eddie and his friends are shipped to Vietnam. They play a dirty game called \\'Dogfight\\': all of them seek a woman for a party, and who finds the most ugly one, wins a prize. Eddie finds the lonesome pacifist Rose working in a coffee shop. She\\'s happy to accompany him - but then she sees through the game. However by this time he already learned to like her, so he follows her home. Will he manage to win her heart despite their differences?',\n",
              " \"We follow Marcel Ophuls' two journeys to Sarajevo in 1993. He is starting a documentary about war correspondants. But this also becomes a reflexion about truth and life. The form consists in many interviews of mostly French and American journalists and reporters of television or newspapers.\",\n",
              " \"Adult film stars Mai Lin and Serena are both in the running for the lead role in director Carlos Tobalina's latest hardcore movie. The two sexy starlets make a $25,000 dollar bet that only one of them will snag the much coveted starring part by engaging in the most outrageous carnal behavior imaginable in order to secure said gig.\",\n",
              " 'In rural 1840s Scotland, Gavin Dishart arrives to become the new \"little minister\" of Thrums\\'s Auld Licht church. He meets a mysterious young gypsy girl in the dens and to his horror Babbie draws him into her escape from the soldiers after she incites a Luddite riot. But unknown to Gavin, Babbie is more than she seems, and they must overcome her secret, the villagers\\' fears of her, and--worst of all--Gavin\\'s devotion to his mother\\'s sensibilities, before they can openly declare their love.',\n",
              " \"Jaded movie star Vanessa Windsor, saved from a studio accident by handsome extra Chris Farley, pursues him, and soon he's the 'caretaker' of her beach house. Vanessa's sexy, alcoholic adult daughter Penny accidentally meets Chris, who rescues her from an 'octopus' boyfriend. Before you know it, Chris is involved with both mother and daughter, and his only way out is to take a job in a Mexican picture about man-eating orchids...\",\n",
              " \"Shortly before a rodeo festival week in Yuma County a body is found in the desert. It seems that it's Ria Paris, who was assumed to be killed by her husband before he took his own life already 16 years ago - however the cadaver's not that old. Together with his new ambitious colleague Paul McCraw Sheriff Kyle starts to investigate in the old case again, trying to avoid shaking up the community of the small town during the celebrations.\",\n",
              " \"Nelson Crowe is a CIA operative under the thumb of the Company for a disputed delivery of $50,000 in gold. They blackmail him into working for the Grimes Organization, which is set up as a private company for hire, to blackmail prominent individuals. Crowe, working with Margaret Wells (another former Covert Operations operative), blackmails and bribes a State Supreme Court judge, but the deal sours. One of Crowe's co-workers, Tod Stapp, discovers Crowe's current CIA involvement in a plot to overthrow Grimes, and blackmails him to be cut in on the deal. More blackmail occurs as Wells manipulates Crowe to kill Grimes, then the CIA uses that discovery to blackmail Wells into killing Crowe. Who can you trust???\",\n",
              " 'Ann Marie is a struggling actress living in New York City. In between trying to find jobs acting and modeling she has time for her boyfriend, Don Hollinger, and her dad, Lew Marie.',\n",
              " \"Oliver's in trouble with his wife after missing a payment on their furniture, having given the money to Stanley, who used it instead to pay Mrs. Hardy for his room and board. While doing the dishes, Stanley convinces Oliver to withdraw the family savings and buy the furniture outright. But they accidentally squander it at an auction, purchasing a grandfather clock which gets smashed on the way home. Mrs. Hardy's reaction sends Oliver to the hospital, where a blood transfusion from Stanley produces confusing results.\",\n",
              " \"Foghorn Leghorn decides to teach Widow Hen's egghead genius son how to have fun by playing croquet, cowboys and Indians, cops and robbers, and battleship. The little genius turns out be a better, slyer player at each of these than the overconfident, loudmouthed Foghorn.\",\n",
              " \"Bank teller Jimmy Caldwell and his fiance, Ruth Holden, grow weary of struggling to make ends meet and decide to rob Jimmy's bank. The selfish young couple agree that even if they spend ten years in prison, it will not matter because they will have the money when they are released. During what appears to be a normal transaction, Jimmy gives Ruth $100,000 that he has taken from the vault, and after they hide the money in a music box, which they mail to Ruth's Uncle Billy for safekeeping, they turn themselves in. Mike Roberts, a detective for the bank's insurance company, tries to convince them to lighten their sentence by returning the money, but they consider the money rightfully theirs and refuse. The judge hearing their case is dismayed by their lack of repentance, and sentences them to one-to-ten years without parole. Jimmy and Ruth are then sent to separate prisons, but communicate by notes. Jimmy's tough cellmate, Blackie Clayton, tries to find out where the money is hidden, but Jimmy gives him misleading information. Sometime later, Roberts arranges for Jimmy and Ruth's paroles and attaches special stipulations that he hopes will make them go straight. The couple are paroled under the conditions that they have no civil rights and cannot marry for eight years. They are crushed by the conditions, but will not give in when Roberts tells them they will be free if they return the money. They try to retrieve the music box from Uncle Billy, but they discover that he has died and that his possessions are to be auctioned. They go to the auction, where they are outbid by auction aficionado Victor J. Holbrook, after which they go to Holbrook's apartment and explain that they need the box. Holbrook tells them he has already sent the box to his aunt, Martha Foster, and when Ruth and Jimmy return to their boardinghouse, they find Blackie waiting for them. He orders them to cut him in on the stolen money, but when Roberts appears, Blackie sneaks out after stealing their money and car. Jimmy and Ruth hop a train to Sunnydale, where Martha lives, and although they are detained by sheriff Ira Foster, Martha's husband, until they show their parole papers, they find Martha's guest farm, check in and locate the music box. After dinner, Roberts, alerted by Ira, shows up to warn Jimmy and Ruth that Blackie is close on their trail. Later that night, Blackie threatens Ruth that he will kill Jimmy unless she gives him the money. Jimmy and Ruth attempt to elude Blackie, but he soon catches up with them and fights with Jimmy. Ruth knocks Blackie out with the music box, after which Roberts appears on the scene. The beleaguered young couple give Roberts the money and determine to live an honest life, in which they will earn their happiness instead of stealing it.\",\n",
              " 'A crime writer believes that a man imprisoned for committing the notorious \"Flower Shop Murder\" is innocent of the crime. He believes he knows who the actual culprit is, and sets out to befriend the man and get enough evidence to prove that he is the real killer.',\n",
              " \"Mike Finnegan is nearing retirement and taking care of his senile wife. He can't get her to allow him to throw anything out and their house has become unmanageable. He meets Liz DeHaan, who is dating a man with whom she is hopelessly mismatched. They become confidants and each allows the other to share their life and experiences with them.\",\n",
              " 'A successful textile industrialist from the provinces, beloved by his employees for his kindness, cannot find a wife because of a disfiguring birthmark on his face. Even the courtesans in Yoshiwara refuse to entertain him, until indentured peasant prostitute Tamarazu, takes the unsavory assignment and treats him with brash tenderness.',\n",
              " \"Project Questor is the brainchild of the genius Dr. Vaslovik, who developed plans to build an android super-human. Although he has disappeared and half of the programming tape was erased in the attempt to decode it, his former colleagues continue the project and finally succeed in creating Questor. However, Vaslovik seems to have installed a secret program in Questor's brain. He flees and starts to search for Vaslovik. Since half of his knowledge is missing, he needs the help of Jerry Robinson, who is now suspected of having stolen the android.\",\n",
              " \"A buddy comedy centered on a couple of 'salarymen' working for an Advertising Agency, who battle the unscrupulous practices of a rival agency. In classic Yoshimitsu Morita style, it's done with heightened slapstick that defies standard logic.\",\n",
              " 'Zelda, a young woman whose husband is lost at sea, and her 12-year-old daughter, Perdita, live off the coast of Scotland on the small island of Skua. The islanders believe Zelda is a witch, but her sister, Annie, says Zelda is just \"different.\" Certain that her husband will never return, Zelda drowns herself. When lobsters, the islanders\\' main source of trade, suddenly disappear, the people decide that Zelda has put a curse on the sea for taking her husband\\'s life. As a result, the orphaned Perdita is banned from school, taunted by other children, and branded by the community as \"the witch\\'s daughter.\"',\n",
              " 'When Belnap finds his herd infected with hoof and mouth disease, he tries to ship them immediately. But Gene finds an infected cow and quarantines all the herds. To get permission to ship, Belnap changes the brand on one of his infected cows to the Wheeler brand. Gene knows the Wheeler herd is OK and sets out to find the infected herd.',\n",
              " 'A grab-bag of singers and dancers featuring, at the time, New York-based performers such as Rae Sanuels, Bill \"Bojangles\" Robinson, the four Mullen Sisters and the team of Evans & Mayer. Dancers Pops & Louie (Albert Whitman and Louis Williams), later to be seen in Republic\\'s \"Hit Parade of 1943\", are also along.',\n",
              " 'A black and white documentary in which the director conducts a late-night outdoor interview with a European mod about his life, his imminent deportation from the United States, and his experiences during the decline and fall of 1960s Britain. This scene is intercut at random intervals with vintage Beatles footage.',\n",
              " 'It is the height of the fashionable season and the world-famous singer, Anita Stella, comes to Cannes on the Riviera, where she has been engaged to perform at a Charity Ball sponsored by society leaders. John Egan, a distinguished British diplomat, traveling incognito as Baron Dupont, for reasons of State, falls in love with Stella and resolves to make her acquaintance. Egan/Dupont persuades a waiter, George, at the ball to exchange clothes with him and is brought into proximity with Stella. Meanwhile, Mary, a pretty tap dancer arrives in Cannes, seeks out the supposed Dupont and introduces herself as his long-lost sister. To protect himself, Egan/Dupont is compelled to acknowledge the relationship, but Mary is really an impostor playing a game of her own with her accomplice George the waiter. Later,a diamond necklace is stolen from one of the guests at the ball, and the distinguished British diplomat, who can also tap-dance, finds himself as the primary suspect. This does not bode well with Stella.',\n",
              " 'An investment banker (Paul Mercurio) travels to Louisiana to snag the account of an eccentric millionaire (Malcolm McDowell) but gets involved with his lusty wife, Mardi Gras, and (possibly) a satanic cult. The events in and around New Orleans change him forever and give a new slant on The American Dream.',\n",
              " \"Found injured by rancher Shep Horgan, Jubal Troop is offered a job as cowhand and soon gains Shep's trust. Mae Horgan, feeling she's been trapped into marriage with Shep, takes a shine to Jubal, although he is more interested in Naomi Hoktor who is travelling with a wagon train camped on Shep's land. Pinky, until now top hand and used to Mae's favours himself, doesn't think much of the new deal and trouble is inevitable.\",\n",
              " \"A sex comedy about a young widow, Mimi who discovers that her recently deceased husband, Franco kept a secret apartment for his kinky desires. Frustrated that he did not explore his sexual fantasies with his wife, she embarks on a quest to understand perversion and sexuality. She uses her late husband's apartment to seduce various men, each time learning more about the depths of human deprivation, as well as the extent of the sexual double standard for women. Finally, she meets the man who shares himself fully with her, appreciates her sexual daring and accepts her for whoever she is.\",\n",
              " 'This films consists of two subject lines. In the first , a man(Ali) prepares to organize a birthday party for his little son. So during the birthday (daytime) he works hard to buy as many products as possible in order to make the birthday party amazing (in the evening). As he gets tired he fell asleep during the party which is the culmination point of the movie. In the second a man (Mustafa) comes to captital city(Baku) from the rural with his friend for business purposes and is quite naive. He meets a woman there by accident and he likes her so he asks her for her help in order to get acquainted with the city and the woman accepts. She shows the city to him and in the evening as it was raining , she brings Mustafa to her house but she gets afraid of her brother to come to her house and see Mustafa with him so she makes Mustafa leave the house in the night. As Mustafa doesnt know the city well he goes astray and accidentally meets Ali who was standing in the balcony of his house.',\n",
              " 'Infamous Mexican bandit Pancho López recognizes Gilbert Jones as the man who once saved his life; therefore, when Jones is in danger of losing his ranch for default of mortgage payment, López determines to help him. At the same time, Morgan Pell, intending to cheat Jones out of his potentially oil-rich property, offers him a sum of money, which Jones conditionally accepts. When López discovers that Jones and Mrs. Pell are in love he has Pell shot, then robs a local bank, pays the mortgage, and returns the cattle he has stolen. With Mr. Pell out of the way and the ranch secure, Jones and Mrs. Pell are free to marry.',\n",
              " 'The film supposedly shows us the work routine of miners in the Rhodope Mountains. Trolleys fly day and night on cable cars over peaks and valleys. This film is not like the others with such a theme, made in the 50s and 60s of the 20th century. Two authors - a director and a cinematographer - have just completed their education in Europe. They apply the lessons of great directors like Joris Ivens. The film has a clear graphic image solution. Abstract music also contradicts the official requirements.',\n",
              " 'Commissioner Tredwell is the law of the land and he gets whatever he wants with the help of hired guns and lackey lawyer Conners. The only one who publicly stands up to Tredwell is Beecham of the Clarion. Beecham has his paper burned to the ground and when he starts a petition to make Wyoming a state, taking the power away from Tredwell, he is killed. But when Kansas Kate comes in to visit her son Conners, she sees what is going on and she takes over the paper and keeps the pressure on Tredwill. With this Conners has mixed emotions, but the boys do everything they can to protect Kate and the paper.',\n",
              " 'Parallel French-speaking version of Warners\\' \"High Pressure\" (1932), a comedy satire on fast-talking promoters, crazy inventors, and stock market hype. The story line comes from Kandel\\'s stage play \"Hot Money,\" which had played on Broadway a month or two in 1931, before Warners bought screen rights and changed the title.',\n",
              " \"Ellen Burstyn stars as the Canadian mother of a college student who vanishes mysteriously while driving back to school in the states. After having no luck from the police, she hires a private detective (Robert Prosky) to help her. Their tenacious pursuit of clues uncovers the grim details of her son's fate, leading to a shocking climax.\",\n",
              " 'Orphaned at a very young age, Reshma and her younger brother Bunty, have tried to live a full life. For this purpose, Reshma sacrifices her life, so that at least Bunty can be successful in his. Bunty falls in love with a young woman named Neelam, and they get married. Reshma welcomes them home, and together with attempt to live harmoniously. This does not happen, as Neelam finds Reshma a very controlling woman, and thus begins a chain of events that creates complications in the relationship of these three people, with no solution in sight.',\n",
              " 'It\\'s the early 1900\\'s. The Wonder Circus is a traveling circus owned and operated by Anthony Wonder - who performs as a clown - and his daughter Kitty Wonder - who performs as an aerialist and trick rider. Although Kitty loves her Pop as she and all the other circus performers call her father, she hates his gambling addiction which is placing the circus deep in debt. They and their employees treat the circus like one big family, especially Lulu the fortune teller who wants to be Mrs. Wonder, but the employees may only be so loyal if they aren\\'t getting paid. As such, many of the performers leave or threaten to leave to join the Wonder Circus\\' main competitor, the Noble Circus owned by the power and money hungry John Noble. Although Pop and Kitty don\\'t want anyone to leave their employ, the only act that they will never let go is Jumbo, their trained elephant, who Noble had tried to buy in the past. As many performers leave, into their midst comes circus Jack-of-all-trades Sam Rawlins. Kitty is reluctant to hire Sam because she wants loyal people working for them instead of someone like Sam who she sees as a \"sunshiner\", a career circus employee who moves from gig to gig. Pop has no such reservation and hires him. Despite still being somewhat suspicious of Sam\\'s motivations since she figures he could get more money working for Noble with his vast array of circus skills, Kitty starts to fall in love with Sam, and he with her, despite his attempts to feign disinterest. Indeed, Sam is hiding a secret about himself and his reason for being with the show. That secret may jeopardize his standing with the Wonders if they ever found out - even if Sam begins to have second thoughts about his reasons for joining them - and jeopardize the entire Wonder Circus itself which includes Jumbo\\'s life.',\n",
              " \"A group of Devonport-based Royal Navy ratings, due to sail to America for a six-month NATO exercise, go out on the town on their last night in port, hitting Plymouth's notorious Union Street district, with violent results.\",\n",
              " 'This expose of the U.S. parole system, as seen through the eyes of FBI Director J. Edgar Hoover, takes dead aim on lawyers who manipulate the justice system in order to get undeserving convicts parole from prisons. The point is made when FBI agents Scott Britton (William Henry) and Ross Waring (Lyle Talbot) are assigned to track down \"Big Boy\" Bradmore (Anthony Quinn), who after getting an undeserved parole, via the efforts of a shyster lawyer, promptly murders an FBI agent.',\n",
              " \"Judge Cooke, good husband and father, is known in court as Old Man Maximum. Cooke's daughter loves defender Dave Douglas, who hates Cooke's attitude toward defendants. Cooke's life shatters when he learns his wife has terminal brain cancer; as her pain worsens, he begins to consider mercy-killing, but that would place him in the position of a defendant.\",\n",
              " \"In 1929, the studio gave the cinema its voice and offered audiences a chance to hear their favorite actors and actresses from the silent-screen era. For the first time, they can be heard in a gaudy, grandiose musical-comedy revue. But also appearing are actors and actresses from the first 'talkies', stars from Broadway, and, of course, German shepherd Rin-Tin-Tin. Frank Fay is the host of the more than 70 well-known stars who show various acts.\",\n",
              " \"Ben Quick returns to the Southern town of Frenchman's Bend to claim his inheritance and soon runs afoul of local power Boss Varner. The handsome Ben attracts the attention of the local women but young Jody Varner is resentful of his attributes.\",\n",
              " 'A group of young friends go hunting during their holidays near a small town in Texas, where the father of one of them own a piece of land. But the place has a legend. Years ago the grandfather stole the land from the Indians and they cursed the family. The curse is effective once every 10 years. 20 years ago the grandfather was killed, 10 years ago an uncle disappeared, and now...',\n",
              " \"The teenager Melissa travels from her small town in Austria with the Spanish Juan Manuel, who flirts with her, to the creepy castle of her uncle Dr. Conrad Jekyll in Holfen to spend Christmas with him and her aunt Inglud. Melissa's father Andros has mysteriously died at the house of his brother Conrad sometime ago. Now she has just reached majority and Conrad intends to transfer the inheritance to her. Melissa is received by the servant Ciceron and she meets the strange Inglud. Then she meets Conrad in his laboratory, where he secretly carries out a sinister experiment. Melissa wants to get information about the death of her father but she is ignored by Conrad and Inglud. In the past, Andros and Inglud had a love affair and Conrad surprised them and killed Andros. Now, Conrad has turned Andros into a killer zombie controlled by ultrasonic radio wave and uses him to kill women with easy life. Inspector Klein is investigating the murders but has no clue. Will Melissa find the truth about her father?\",\n",
              " \"Frank Wayne, the big boss of the mafia, is em movement all his money to Switzerland, costing much to the State. The IMF attempts to stop him. Jim Phelps plays an investigator from the Senate who harassment Wayne and finally arrests him. Wayne is switched with Rollin Hand, disguised as Wayne. Rollin is then obtained his real face back under the cover of instant aesthetic surgery performed by Cinnamon Carter, who is actually only removing his makeup. Againts the will of the Organisation's council, Wayne/Hand orders his henchman to kill the investigator by exploding his car. Phelps escapes the attack thanks to a trapdoor in the bottom of the car, leading to a sewer opening on top of which the car was parked. Meanwhile, Hand manages to open the safe of Wayne's office in which all the Organisation's ledgers are hidden. Wayne's is then sentence to death by a full council, but Wayne/Hand manages to escape through one elevator. Barney Collier had previously fixed the elevator so that it is synchronized with the one just next to it. Hand crawls into the second elevator while both are descending, rejoining his associates, and the real Wayne (sedated until then) is put back into the first one and reanimated. When the elevator reaches the underground parking lot, Wayne wakes up just in time to be killed by his henchman. The IMF members leave the place unnoticed just as the police arrives, called earlier by Cinnamon.\",\n",
              " 'The adventures of Robert Lafleur, alias Scaramouche, are the sensation of his time, thanks to his talent as an actor and charm as an incorrigible seducer. He becomes the enemy of the Marquis de la Tour when he makes a conquest of his mistress, the ravishing Madame de Popignan. His world is thrown into a turmoil when, one day, the Marquis de Souchil recognizes Scaramouche as the illegitimate son of the Duke de Froissard.',\n",
              " 'The \"Satans\" are a very cruel biker gang led by Anchor. The gang goes to a diner in the middle of nowhere in the California desert where they begin to terrorize Lew and his patrons and his waitress, Tracy. After a little killing, one of the patrons named Johnny manages to escape from the bikers into the desert. They need to reach a town before the Satans catch up to them and kill them.',\n",
              " 'Inspector Chu (Chocolate) is an idiot to rival Inspector Clouseau. After he fails to catch a car-park full of thieves he is demoted to the missing persons squad, only to be faced with the kidnapping of the son of the star of a TV cooking show. Inspector Chocolate (so called because of his fondness for Smarties) bungles the case, fails to dance the tango and interferes with the Miss Hong Kong pageant in his attempts to solve the case.',\n",
              " \"Michael Dorsey is an unemployed actor with an impossible reputation. In order to find work and fund his friend's play he dresses as a woman, Dorothy Michaels, and lands the part in a daytime drama. Dorsey loses himself in this woman role and essentially becomes Dorothy Michaels, captivating women all around the city and inspiring them to break free from the control of men and become more like Dorsey's initial identity. This newfound role, however, lands Dorsey in a hot spot between a female friend/'lover,' a female co-star he falls in love with, that co-star's father who falls in love with him, and a male co-star who yearns for his affection.\",\n",
              " \"Cosmo Vitelli owns the Crazy Horse West, a strip joint in Los Angeles. He's laconic, vet, and a gambler. When we meet him, he's making his last payment on a gambling debt, after which, he promptly loses $23,000 playing poker. The guys he owes this time aren't so friendly, pressuring him for immediate payment. When he's not able to do so, they suggest he kill a Chinese bookie to wipe away his debt. Vitelli and the film move back and forth between the double-crossing, murderous insincerity of the gamblers and the friendships, sweetness, and even love among Vitelli, the dancers, a dancer's mother, and the club's singer, Mr. Sophistication.\",\n",
              " 'A top secret chemical formula has been stolen by STENCH (the Society for the Total Extinction of Non-Conforming Humans), and so Agent Simpkins and his three trainees are hot on the trail, chasing the villains across the world. There are gadgets galore, and disguises are compulsory if the heroes are to win the day from The Fat Man, Dr Milchman and Dr Crow!',\n",
              " 'Vicki is 17 and her older friends call her Jailbait. Her boyfriend Robert is frustrated because Vicki doesn\\'t want to do the wild thing, but he\\'s willing to wait. After a party gets out of hand, Vicki escapes with help from Lorraine, who takes her in as a houseguest. While Lorraine teaches Vicki etiquette, Robert wonders what happened to his girlfriend. And Vicki soon learns more about Lorraine\\'s job as an \"executive liaison.\"',\n",
              " \"Sickan, the leader of the criminal Jönsson gang is incarcerated in a mental institution, attended by Dr M.A. Busé, who admire a handbook in crime that Sickan has been writing. Blackmailed by the nefarious banker Wall-Enberg, Dr Busé and Sickan's partners Vanheden and Dynamite-Harry execute Sickan's plan of stealing the valuable Black Diamond of the Romanovs from the National Museum.\",\n",
              " \"Women without men can have lots of fun with each other. Luscious Amber Lynn, Karen Summer, Gina Carrera and Crystal Breeze show you just how much fun. Follow their exploits as they find new sexual ways to indulge their inner fantasies. A hot tub, underwater jets, high-class vibrators and other toys add to the girls fun and satisfy their desires. Women without men, alone but never lonely, and always doing what they do best. It's an all girl extravaganza.\",\n",
              " \"Major Ben Wheeler was a Canadian doctor assigned to Singapore when the Japanese forced an unconditional surrender of the British and took him prisoner in 1942. He was taken to the notorious Kinkaseki Japanese POW mining camp in Formosa (Taiwan) and given the task of maintaining the mental and physical health of the British POWs. Wheeler kept detailed diaries of his experiences during his three and a half years at the camp and excerpts are narrated with dramatized scenes of the traumatic experiences of daily life. The working conditions in the mines caused innumerable injuries, and disease and malnutrition were rampant, but Wheeler had to make do with very few medical supplies and equipment. Also featured is newsreel footage of related events, archival footage of the camp, interviews with fellow survivors of the camp who unanimously praised Wheeler for his good work and provide their perspectives on the events described by him, and finally snippets of Wheeler's family life back home in Canada, before and after the war.\",\n",
              " 'The John Roberts Costume Company is being run super-efficiently by Doris Roberts, but her husband demands that she give up her position to stay at home with their young son. Without her wheeling and dealing skills the company starts to lose money and when John leaves for Europe on a tryst, Doris returns to save the firm. Hooking up with an obviously disturbed producer and a pair of theatrical backers, the costume company seems to be on the road to riches again when John returns and wants his share of the profits.']"
            ]
          },
          "execution_count": 56,
          "metadata": {},
          "output_type": "execute_result"
        }
      ],
      "source": [
        "total_text"
      ]
    },
    {
      "cell_type": "code",
      "execution_count": null,
      "metadata": {
        "id": "um_vePy1K2Kz"
      },
      "outputs": [],
      "source": [
        "import nltk"
      ]
    },
    {
      "cell_type": "code",
      "execution_count": null,
      "metadata": {
        "id": "oBU_fCDnK2Kz"
      },
      "outputs": [],
      "source": [
        "from nltk.corpus import stopwords\n",
        "from nltk.tokenize import word_tokenize"
      ]
    },
    {
      "cell_type": "code",
      "execution_count": null,
      "metadata": {
        "id": "2RhqBOwPK2Kz",
        "outputId": "d5ef2725-abf9-4356-a6a2-91ca94cbbae2"
      },
      "outputs": [
        {
          "name": "stderr",
          "output_type": "stream",
          "text": [
            "[nltk_data] Downloading package stopwords to\n",
            "[nltk_data]     /Users/porteruser/nltk_data...\n",
            "[nltk_data]   Package stopwords is already up-to-date!\n"
          ]
        },
        {
          "data": {
            "text/plain": [
              "True"
            ]
          },
          "execution_count": 59,
          "metadata": {},
          "output_type": "execute_result"
        }
      ],
      "source": [
        "nltk.download('stopwords')"
      ]
    },
    {
      "cell_type": "code",
      "execution_count": null,
      "metadata": {
        "id": "S-H9rgiBK2Kz"
      },
      "outputs": [],
      "source": [
        "stop_words_list = set(stopwords.words('english'))"
      ]
    },
    {
      "cell_type": "code",
      "execution_count": null,
      "metadata": {
        "id": "EKYPQiUfK2Kz"
      },
      "outputs": [],
      "source": [
        "tokenized_text_list = []\n",
        "for each_text_item in total_text:\n",
        "    tokenized_text = word_tokenize(each_text_item)\n",
        "    tokenized_text_list.append(tokenized_text)"
      ]
    },
    {
      "cell_type": "code",
      "execution_count": null,
      "metadata": {
        "id": "lgE6qCmsK2Kz"
      },
      "outputs": [],
      "source": [
        "stop_words_removed_list = []\n",
        "for each_text_item in tokenized_text_list:\n",
        "    stop_words_removed_text = [word for word in each_text_item if not word.lower() in stop_words_list]\n",
        "    stop_words_removed_list.append(stop_words_removed_text)"
      ]
    },
    {
      "cell_type": "code",
      "execution_count": null,
      "metadata": {
        "id": "8gkAdampK2K0"
      },
      "outputs": [],
      "source": [
        "from nltk.stem import WordNetLemmatizer"
      ]
    },
    {
      "cell_type": "code",
      "execution_count": null,
      "metadata": {
        "id": "8dlZoTDKK2K0"
      },
      "outputs": [],
      "source": [
        "# import these modules\n",
        "from nltk.stem import WordNetLemmatizer\n",
        "  \n",
        "lemmatizer = WordNetLemmatizer()"
      ]
    },
    {
      "cell_type": "code",
      "execution_count": null,
      "metadata": {
        "id": "PUE3WCSyK2K0"
      },
      "outputs": [],
      "source": [
        "lemm_text_list = []\n",
        "for each_text_item in stop_words_removed_list:\n",
        "    lemm_text = []\n",
        "    for each_word in each_text_item:\n",
        "        lemm_text.append(lemmatizer.lemmatize(each_word))\n",
        "    lemm_text_list.append(lemm_text)"
      ]
    },
    {
      "cell_type": "code",
      "execution_count": null,
      "metadata": {
        "id": "jyF93BFGK2K0"
      },
      "outputs": [],
      "source": [
        "id2word = corpora.Dictionary(lemm_text_list)"
      ]
    },
    {
      "cell_type": "code",
      "execution_count": null,
      "metadata": {
        "id": "ZXRcxil9K2K0"
      },
      "outputs": [],
      "source": [
        "corpus = [id2word.doc2bow(text) for text in lemm_text_list]"
      ]
    },
    {
      "cell_type": "code",
      "execution_count": null,
      "metadata": {
        "id": "Gi160ewFK2K1"
      },
      "outputs": [],
      "source": [
        "lda_model = gensim.models.ldamodel.LdaModel(corpus=corpus,\n",
        "                                           id2word=id2word,\n",
        "                                           num_topics=20, \n",
        "                                           random_state=100,\n",
        "                                           update_every=1,\n",
        "                                           chunksize=100,\n",
        "                                           passes=10,\n",
        "                                           alpha='auto',\n",
        "                                           per_word_topics=True)"
      ]
    },
    {
      "cell_type": "code",
      "execution_count": null,
      "metadata": {
        "id": "SCJFEk1HK2K1"
      },
      "outputs": [],
      "source": [
        "doc_lda = lda_model[corpus]"
      ]
    },
    {
      "cell_type": "code",
      "execution_count": null,
      "metadata": {
        "id": "tTstbD0AK2K1",
        "outputId": "bfa811dc-6af6-4a3b-9bbb-99a255bff8ec"
      },
      "outputs": [
        {
          "data": {
            "text/plain": [
              "[(0,\n",
              "  '0.017*\",\" + 0.012*\"former\" + 0.012*\"hustler\" + 0.012*\".\" + 0.006*\"football\" + 0.006*\"get\" + 0.006*\"abandon\" + 0.006*\"partner\" + 0.006*\"come\" + 0.006*\"plan\"'),\n",
              " (1,\n",
              "  '0.087*\",\" + 0.056*\".\" + 0.025*\"\\'s\" + 0.006*\"family\" + 0.005*\"husband\" + 0.005*\"young\" + 0.005*\"return\" + 0.004*\"friend\" + 0.004*\"year\" + 0.004*\"Zelda\"'),\n",
              " (2,\n",
              "  '0.036*\".\" + 0.032*\",\" + 0.027*\"(\" + 0.027*\")\" + 0.016*\"Takashi\" + 0.010*\"city\" + 0.010*\"Mustafa\" + 0.010*\"house\" + 0.008*\"\\'s\" + 0.008*\"Earth\"'),\n",
              " (3,\n",
              "  '0.037*\".\" + 0.033*\",\" + 0.015*\"de\" + 0.008*\")\" + 0.008*\"(\" + 0.008*\"Police\" + 0.008*\"gay\" + 0.008*\"Benson\" + 0.008*\"Marquis\" + 0.008*\"Scaramouche\"'),\n",
              " (4,\n",
              "  '0.001*\",\" + 0.001*\".\" + 0.001*\"Frankie\" + 0.000*\"Carol\" + 0.000*\"\\'s\" + 0.000*\"(\" + 0.000*\"Robert\" + 0.000*\"home\" + 0.000*\")\" + 0.000*\"child\"'),\n",
              " (5,\n",
              "  '0.030*\",\" + 0.030*\".\" + 0.017*\"infected\" + 0.017*\"herd\" + 0.013*\"find\" + 0.009*\"ship\" + 0.009*\"cow\" + 0.009*\"Wheeler\" + 0.009*\"Gene\" + 0.009*\"brand\"'),\n",
              " (6,\n",
              "  '0.041*\",\" + 0.033*\".\" + 0.011*\")\" + 0.011*\"Andre\" + 0.011*\"(\" + 0.011*\"Johanna\" + 0.011*\"Dario\" + 0.008*\"car\" + 0.008*\"covered\" + 0.008*\"jungle\"'),\n",
              " (7,\n",
              "  '0.031*\".\" + 0.024*\",\" + 0.017*\"Vicki\" + 0.011*\"\\'s\" + 0.011*\"business\" + 0.011*\"Lorraine\" + 0.011*\"\\'\\'\" + 0.011*\"``\" + 0.007*\"$\" + 0.007*\"movie\"'),\n",
              " (8,\n",
              "  '0.056*\",\" + 0.032*\".\" + 0.016*\"\\'s\" + 0.016*\"\\'\\'\" + 0.013*\"Dot\" + 0.013*\"Cutey\" + 0.010*\"``\" + 0.008*\"marry\" + 0.008*\"one\" + 0.006*\"\\'\"'),\n",
              " (9,\n",
              "  '0.030*\",\" + 0.025*\".\" + 0.010*\"murder\" + 0.010*\"book\" + 0.010*\"New\" + 0.010*\"Marie\" + 0.005*\"\\'s\" + 0.005*\"find\" + 0.005*\"writer\" + 0.005*\"time\"'),\n",
              " (10,\n",
              "  '0.000*\",\" + 0.000*\".\" + 0.000*\"Sam\" + 0.000*\"covered\" + 0.000*\"circus\" + 0.000*\"car\" + 0.000*\"Wonder\" + 0.000*\"Kitty\" + 0.000*\"ensues\" + 0.000*\"Donald\"'),\n",
              " (11,\n",
              "  '0.049*\".\" + 0.012*\"film\" + 0.012*\"Kara\" + 0.009*\",\" + 0.008*\"like\" + 0.008*\"director\" + 0.008*\"-\" + 0.008*\"treasure\" + 0.004*\"peak\" + 0.004*\"requirement\"'),\n",
              " (12,\n",
              "  '0.054*\",\" + 0.052*\".\" + 0.013*\"find\" + 0.012*\"\\'s\" + 0.008*\"stranger\" + 0.008*\"alien\" + 0.008*\"without\" + 0.008*\"Questor\" + 0.008*\"fun\" + 0.008*\"Vaslovik\"'),\n",
              " (13,\n",
              "  '0.083*\",\" + 0.060*\".\" + 0.014*\"\\'s\" + 0.006*\")\" + 0.006*\"(\" + 0.006*\"Wayne\" + 0.005*\"Conrad\" + 0.005*\"Sam\" + 0.005*\"circus\" + 0.005*\"-\"'),\n",
              " (14,\n",
              "  '0.059*\",\" + 0.047*\".\" + 0.016*\"\\'s\" + 0.009*\"Cooke\" + 0.009*\"life\" + 0.009*\"Shep\" + 0.007*\"wife\" + 0.007*\"become\" + 0.007*\"top\" + 0.007*\"stolen\"'),\n",
              " (15,\n",
              "  '0.028*\".\" + 0.028*\";\" + 0.016*\",\" + 0.012*\"Playboy\" + 0.012*\"shot\" + 0.008*\"game\" + 0.008*\"ground\" + 0.008*\"playing\" + 0.008*\"Grotto\" + 0.008*\"first\"'),\n",
              " (16,\n",
              "  '0.026*\",\" + 0.026*\".\" + 0.017*\"Sickan\" + 0.013*\"Inspector\" + 0.009*\"\\'s\" + 0.009*\"(\" + 0.009*\")\" + 0.009*\"Dr\" + 0.009*\"Busé\" + 0.009*\"case\"'),\n",
              " (17,\n",
              "  '0.088*\",\" + 0.051*\".\" + 0.015*\"\\'s\" + 0.014*\"Jimmy\" + 0.013*\"money\" + 0.012*\"Ruth\" + 0.008*\"life\" + 0.007*\")\" + 0.007*\"Roberts\" + 0.007*\"Blackie\"'),\n",
              " (18,\n",
              "  '0.089*\",\" + 0.055*\".\" + 0.014*\"\\'s\" + 0.007*\"Ramon\" + 0.006*\"love\" + 0.006*\"Kitchell\" + 0.006*\"woman\" + 0.005*\"find\" + 0.005*\"young\" + 0.005*\"blackmail\"'),\n",
              " (19,\n",
              "  '0.083*\",\" + 0.045*\".\" + 0.022*\"Frankie\" + 0.013*\"Carol\" + 0.012*\"\\'s\" + 0.011*\"Tom\" + 0.007*\"film\" + 0.007*\"Charley\" + 0.007*\"Marshal\" + 0.007*\"go\"')]"
            ]
          },
          "execution_count": 95,
          "metadata": {},
          "output_type": "execute_result"
        }
      ],
      "source": [
        "lda_model.print_topics()"
      ]
    },
    {
      "cell_type": "markdown",
      "metadata": {
        "id": "ebgyws41K2K1"
      },
      "source": [
        "## (2) (10 points) Generate K topics by using LSA, the number of topics K should be decided by the coherence score, then summarize what are the topics. You may refer the code here:\n",
        "\n",
        "https://www.datacamp.com/community/tutorials/discovering-hidden-topics-python"
      ]
    },
    {
      "cell_type": "code",
      "execution_count": null,
      "metadata": {
        "id": "52KnL4-jK2K1"
      },
      "outputs": [],
      "source": [
        "from gensim.models import LsiModel"
      ]
    },
    {
      "cell_type": "code",
      "execution_count": null,
      "metadata": {
        "id": "I1MLoNMtK2K2"
      },
      "outputs": [],
      "source": [
        "def get_coherance_values(dictionary, doc_term_matrix, doc_clean, stop, start=2, step=3):\n",
        "\n",
        "    coh_vals_list = []\n",
        "    model_list = []\n",
        "    for n_topics in range(start, stop, step):\n",
        "        each_model = LsiModel(doc_term_matrix, num_topics=n_topics, id2word = dictionary) \n",
        "        model_list.append(each_model)\n",
        "        coherencemodel = CoherenceModel(model=each_model, texts=doc_clean, dictionary=dictionary, coherence='c_v')\n",
        "        coh_vals_list.append(coherencemodel.get_coherence())\n",
        "    return model_list, coh_vals_list"
      ]
    },
    {
      "cell_type": "code",
      "execution_count": null,
      "metadata": {
        "id": "sxoFPwofK2K2"
      },
      "outputs": [],
      "source": [
        "def LSA_k_topics():\n",
        "    lsamodel = LsiModel(corpus, num_topics=25, id2word = id2word)\n",
        "    lsa_list, lsa_values = get_coherance_values(id2word, corpus\n",
        "                                                           ,lemm_text_list,50)\n",
        "    print(lsamodel.print_topics(num_topics=25, num_words=10))\n",
        "    return lsamodel,lsa_values,lsa_list"
      ]
    },
    {
      "cell_type": "code",
      "execution_count": null,
      "metadata": {
        "id": "I0-1HZggK2K2",
        "outputId": "79089e9b-94eb-4228-b647-096e9d4c34da"
      },
      "outputs": [
        {
          "name": "stdout",
          "output_type": "stream",
          "text": [
            "[(0, '0.823*\",\" + 0.488*\".\" + 0.152*\"\\'s\" + 0.066*\"Jimmy\" + 0.062*\"money\" + 0.056*\"Ruth\" + 0.043*\")\" + 0.043*\"(\" + 0.042*\"Frankie\" + 0.040*\"find\"'), (1, '-0.392*\"Jimmy\" + -0.332*\"Ruth\" + 0.308*\".\" + -0.277*\"money\" + -0.212*\"Roberts\" + -0.211*\"Blackie\" + -0.181*\"box\" + 0.154*\")\" + 0.151*\"(\" + -0.141*\"give\"'), (2, '0.548*\".\" + -0.388*\",\" + -0.288*\"Frankie\" + -0.177*\"Carol\" + 0.134*\"money\" + 0.133*\"Jimmy\" + 0.113*\"Ruth\" + 0.103*\"Sam\" + 0.103*\"circus\" + 0.093*\"-\"'), (3, '0.451*\"(\" + 0.451*\")\" + -0.269*\"Frankie\" + 0.196*\"Takashi\" + -0.165*\"Carol\" + -0.146*\".\" + -0.124*\"circus\" + -0.124*\"Sam\" + -0.106*\"Wonder\" + -0.100*\"-\"'), (4, '0.320*\".\" + 0.297*\"Frankie\" + -0.220*\"circus\" + -0.220*\"Sam\" + -0.207*\",\" + -0.189*\"Wonder\" + 0.183*\"Carol\" + -0.173*\"\\'s\" + -0.157*\"Kitty\" + -0.151*\"-\"'), (5, '0.289*\"Frankie\" + 0.243*\"(\" + 0.241*\")\" + 0.180*\"circus\" + 0.180*\"Sam\" + 0.178*\"Carol\" + 0.154*\"Wonder\" + 0.150*\"go\" + -0.150*\"Ramon\" + 0.136*\"Takashi\"'), (6, '-0.362*\"\\'s\" + -0.335*\"Wayne\" + -0.214*\"Takashi\" + -0.168*\"elevator\" + 0.147*\"Ramon\" + 0.128*\"Kitchell\" + -0.126*\"Hand\" + -0.124*\"one\" + -0.119*\"car\" + -0.109*\"Earth\"'), (7, '0.252*\"Wayne\" + -0.251*\"Takashi\" + -0.206*\"\\'s\" + -0.183*\"Conrad\" + 0.149*\"(\" + 0.147*\")\" + -0.136*\"Earth\" + -0.131*\"Melissa\" + -0.128*\"father\" + 0.126*\"elevator\"'), (8, '0.423*\"Ramon\" + 0.370*\"Kitchell\" + 0.264*\"Moran\" + 0.155*\";\" + 0.147*\"girl\" + 0.139*\"Wayne\" + 0.114*\"ship\" + 0.108*\"crew\" + 0.106*\"San\" + 0.106*\"Francisco\"'), (9, '0.261*\"\\'s\" + -0.242*\"Conrad\" + 0.241*\"Dot\" + 0.241*\"Cutey\" + 0.225*\"\\'\\'\" + 0.219*\"``\" + -0.173*\"Melissa\" + -0.144*\"Takashi\" + -0.138*\"Andros\" + -0.138*\"Inglud\"'), (10, '-0.305*\"blackmail\" + -0.305*\"Crowe\" + -0.301*\"\\'s\" + -0.179*\"?\" + -0.160*\"Conrad\" + -0.152*\"Grimes\" + -0.152*\"CIA\" + -0.152*\"Wells\" + 0.136*\"Takashi\" + -0.115*\"Melissa\"'), (11, '-0.306*\"Conrad\" + 0.263*\"blackmail\" + 0.263*\"Crowe\" + -0.219*\"Melissa\" + -0.175*\"Andros\" + -0.175*\"Inglud\" + -0.157*\"father\" + 0.147*\".\" + 0.131*\"Grimes\" + 0.131*\"CIA\"'), (12, '-0.364*\";\" + -0.222*\"shot\" + 0.177*\"Mustafa\" + -0.157*\"Playboy\" + 0.154*\"city\" + -0.149*\"Wheeler\" + 0.143*\"house\" + 0.134*\"blackmail\" + 0.134*\"Crowe\" + 0.122*\"party\"'), (13, '-0.317*\"\\'s\" + -0.173*\"mother\" + -0.151*\"Julia\" + -0.151*\"king\" + -0.151*\"Franz\" + 0.146*\"``\" + 0.143*\"Cutey\" + 0.143*\"Dot\" + 0.133*\"\\'\\'\" + 0.119*\"Stella\"'), (14, '-0.251*\"Wheeler\" + -0.238*\"\\'s\" + -0.191*\"camp\" + 0.148*\"Julia\" + 0.148*\"Franz\" + 0.148*\"king\" + 0.130*\";\" + -0.125*\"life\" + -0.116*\"woman\" + 0.112*\"Cutey\"'), (15, '0.311*\";\" + -0.180*\"Wheeler\" + 0.165*\"Mustafa\" + 0.157*\"Jones\" + 0.151*\"city\" + 0.136*\"first\" + 0.136*\"Playboy\" + 0.131*\"Pell\" + -0.125*\"camp\" + 0.124*\"\\'s\"'), (16, '0.198*\"Wheeler\" + 0.167*\"camp\" + -0.149*\"find\" + 0.141*\"Julia\" + 0.141*\"Franz\" + 0.141*\"king\" + -0.136*\"Stella\" + 0.119*\"Jones\" + 0.117*\"marry\" + 0.115*\"mother\"'), (17, '0.379*\"Jones\" + 0.315*\"Pell\" + 0.189*\"López\" + 0.144*\"Mrs.\" + 0.141*\"husband\" + -0.137*\"Stella\" + 0.132*\"Zelda\" + 0.132*\"ranch\" + 0.126*\"mortgage\" + 0.124*\"life\"'), (18, '-0.276*\"Black\" + -0.267*\"wand\" + -0.267*\"Genie\" + 0.142*\"love\" + -0.134*\"Champfleury\" + -0.134*\"Chassidou\" + -0.134*\"fairy\" + -0.134*\"magic\" + -0.134*\"Barbara\" + -0.134*\"animal\"'), (19, '-0.292*\"Zelda\" + -0.236*\"husband\" + 0.226*\"Jones\" + 0.188*\"Pell\" + -0.161*\"daughter\" + -0.135*\"woman\" + -0.135*\"\\'\\'\" + -0.133*\"``\" + -0.126*\"witch\" + -0.126*\"young\"'), (20, '-0.227*\"Dorsey\" + -0.194*\"love\" + -0.182*\"woman\" + -0.170*\"co-star\" + -0.168*\"find\" + 0.141*\"Tom\" + -0.138*\"female\" + -0.136*\"fall\" + -0.130*\"land\" + -0.122*\"friend\"'), (21, '-0.264*\"Simon\" + -0.264*\"Vallier\" + 0.159*\"woman\" + 0.155*\"find\" + -0.132*\"Bilodeau\" + -0.127*\"murder\" + 0.126*\"Dorsey\" + -0.122*\"\\'\\'\" + -0.113*\"convict\" + 0.110*\"like\"'), (22, '-0.438*\"Tom\" + -0.250*\"Marshal\" + -0.176*\"paper\" + 0.151*\"find\" + -0.129*\"woman\" + 0.123*\"stranger\" + 0.123*\"alien\" + 0.115*\"lead\" + -0.109*\"arrives\" + -0.109*\"Dorsey\"'), (23, '-0.381*\"Tom\" + -0.218*\"Marshal\" + -0.182*\"find\" + -0.154*\"Eddie\" + -0.153*\"paper\" + -0.144*\"Paris\" + -0.141*\"Ram\" + 0.113*\"film\" + -0.105*\"want\" + -0.101*\"U.S.\"'), (24, '-0.200*\"Ethan\" + 0.161*\"Eddie\" + 0.155*\"want\" + 0.153*\"Paris\" + 0.146*\"Ram\" + -0.142*\"day\" + -0.134*\"witness\" + -0.129*\"cop\" + -0.125*\"friend\" + -0.112*\"?\"')]\n"
          ]
        }
      ],
      "source": [
        "lsamodel,lsa_values,lsa_list = LSA_k_topics()"
      ]
    },
    {
      "cell_type": "markdown",
      "metadata": {
        "id": "jm8G585wK2K2"
      },
      "source": [
        "## (3) (10 points) Generate K topics by using  lda2vec, the number of topics K should be decided by the coherence score, then summarize what are the topics. You may refer the code here:\n",
        "\n",
        "https://nbviewer.org/github/cemoody/lda2vec/blob/master/examples/twenty_newsgroups/lda2vec/lda2vec.ipynb"
      ]
    },
    {
      "cell_type": "code",
      "execution_count": null,
      "metadata": {
        "id": "M2J_uQ4eK2K2",
        "outputId": "ae7ef341-2927-4b81-d894-bc0a4a42530e"
      },
      "outputs": [
        {
          "name": "stdout",
          "output_type": "stream",
          "text": [
            "Collecting preprocess\n",
            "  Downloading preprocess-2.0.0-py3-none-any.whl (12 kB)\n",
            "Requirement already satisfied: future in /Users/porteruser/opt/anaconda3/lib/python3.9/site-packages (from preprocess) (0.18.2)\n",
            "Installing collected packages: preprocess\n",
            "Successfully installed preprocess-2.0.0\n"
          ]
        }
      ],
      "source": [
        "!pip install preprocess"
      ]
    },
    {
      "cell_type": "code",
      "execution_count": null,
      "metadata": {
        "id": "hYER5i69K2K2"
      },
      "outputs": [],
      "source": [
        "def ida2Vec_K():\n",
        "    top_n = 40\n",
        "    topic_to_topwords = {}\n",
        "    for j, topic_to_word in enumerate(data[\"film_outline\"]):\n",
        "        try:\n",
        "            top = np.argsort(topic_to_word.split())[::-1][:top_n]\n",
        "            msg = f\"Topic number {j}\"\n",
        "            top_words = [data[\"film_outline\"][i].strip() for i in top]\n",
        "            msg += ' '.join(top_words)\n",
        "            print(msg[:50])\n",
        "            print()\n",
        "            topic_to_topwords[j] = top_words\n",
        "        except:\n",
        "            continue\n",
        "    return topic_to_topwords"
      ]
    },
    {
      "cell_type": "code",
      "execution_count": null,
      "metadata": {
        "id": "Rj2vb4pKK2K3",
        "outputId": "434f1b02-8219-4ffe-da4e-fcc1fd2b195a"
      },
      "outputs": [
        {
          "name": "stdout",
          "output_type": "stream",
          "text": [
            "Topic 0 Several people are killed in a London air \n",
            "\n",
            "Topic 1 A departure from the traditional Playboy v\n",
            "\n",
            "Topic 2 The King Of Friday Night is a TV movie bas\n",
            "\n",
            "Topic 3 Jaded movie star Vanessa Windsor, saved fr\n",
            "\n",
            "Topic 4 Robert is a college student who doesn't wa\n",
            "\n",
            "Topic 5 During a film course lead by Yvette Biro a\n",
            "\n",
            "Topic 6 Slightly different than \"Batman: The Anima\n",
            "\n",
            "Topic 8 Ann Marie is a struggling actress living i\n",
            "\n",
            "Topic 9 A buddy comedy centered on a couple of 'sa\n",
            "\n",
            "Topic 10 In the shadows of the night Dudley Wolff \n",
            "\n",
            "Topic 11 Ellen Hallet is in love with her playboy \n",
            "\n",
            "Topic 12 When Belnap finds his herd infected with \n",
            "\n",
            "Topic 15 Ellen Burstyn stars as the Canadian mothe\n",
            "\n",
            "Topic 16 Thérèse Ravenaz is a charming young woman\n",
            "\n",
            "Topic 17 A lonely sheep farmer in his fifties empl\n",
            "\n",
            "Topic 18 During the annual fair in the animal vill\n",
            "\n",
            "Topic 19 A departure from the traditional Playboy \n",
            "\n",
            "Topic 20 Orphaned at a very young age, Reshma and \n",
            "\n",
            "Topic 22 Zelda, a young woman whose husband is los\n",
            "\n",
            "Topic 23 Frank, an auto mechanic, witnesses the lo\n",
            "\n",
            "Topic 24 There are plenty of guilty secrets at the\n",
            "\n",
            "Topic 26 A schoolmaster finds an unconscious young\n",
            "\n",
            "Topic 28 A dying Marshal gives Tom his identificat\n",
            "\n",
            "Topic 29 George and Joan are going out for the nig\n",
            "\n",
            "Topic 30 Mike Finnegan is nearing retirement and t\n",
            "\n",
            "Topic 32 Ram Bowen and Eddie Cook are two expatria\n",
            "\n",
            "Topic 33 The King Of Friday Night is a TV movie ba\n",
            "\n",
            "Topic 34 A witch is put to death in Colonial Ameri\n",
            "\n",
            "Topic 36 Easter, a soldier of fortune and gunrunne\n",
            "\n",
            "Topic 37 This unique and thought-provoking documen\n",
            "\n",
            "Topic 38 A successful textile industrialist from t\n",
            "\n",
            "Topic 39 In 1963, the night before the 18 years ol\n",
            "\n",
            "Topic 41 This films consists of two subject lines.\n",
            "\n",
            "Topic 42 During the Second World War, tens of thou\n",
            "\n",
            "Topic 43 A pretty young socialite falls for a char\n",
            "\n",
            "Topic 45 A schoolmaster finds an unconscious young\n",
            "\n",
            "Topic 46 Frank, an auto mechanic, witnesses the lo\n",
            "\n",
            "Topic 48 Jaded movie star Vanessa Windsor, saved f\n",
            "\n",
            "Topic 49 Cutey's sweetheart Dot's father forbids h\n",
            "\n",
            "Topic 50 In the wake of Spock's ultimate deed of s\n",
            "\n",
            "Topic 51 Gabriel Knight (Tim Curry) is the owner o\n",
            "\n",
            "Topic 52 This unique and thought-provoking documen\n",
            "\n",
            "Topic 53 Thérèse Ravenaz is a charming young woman\n",
            "\n",
            "Topic 54 The King Of Friday Night is a TV movie ba\n",
            "\n",
            "Topic 56 Ram Bowen and Eddie Cook are two expatria\n",
            "\n",
            "Topic 57 Little Frankie Rogers lives on the wrong \n",
            "\n",
            "Topic 58 A documentary about the rise to fame of a\n",
            "\n",
            "Topic 60 During a film course lead by Yvette Biro \n",
            "\n",
            "Topic 61 Foghorn Leghorn decides to teach Widow He\n",
            "\n",
            "Topic 62 During the annual fair in the animal vill\n",
            "\n",
            "Topic 63 During the Second World War, tens of thou\n",
            "\n",
            "Topic 64 Police inspector Karan Srivastav and his \n",
            "\n",
            "Topic 66 Nightime soap opera involving The Yellow \n",
            "\n",
            "Topic 67 Ethan is a photographer in Los Angeles, s\n",
            "\n",
            "Topic 68 Several people are killed in a London air\n",
            "\n",
            "Topic 70 In San Francisco, Ramon Laredo, a wealthy\n",
            "\n",
            "Topic 71 In a small country there is a king who, a\n",
            "\n",
            "Topic 72 A pretty young socialite falls for a char\n",
            "\n",
            "Topic 75 Nightime soap opera involving The Yellow \n",
            "\n",
            "Topic 77 Robert is a college student who doesn't w\n",
            "\n",
            "Topic 78 Donald re-paints his car, and a bird land\n",
            "\n",
            "Topic 79 Police inspector Karan Srivastav and his \n",
            "\n",
            "Topic 81 Sergeant Benson (Ryan O'Neal) is a Police\n",
            "\n",
            "Topic 82 Project Questor is the brainchild of the \n",
            "\n",
            "Topic 83 In 1963, the night before the 18 years ol\n",
            "\n",
            "Topic 84 Found injured by rancher Shep Horgan, Jub\n",
            "\n",
            "Topic 85 Sergeant Benson (Ryan O'Neal) is a Police\n",
            "\n",
            "Topic 86 Because of a local blood feud, a peasant \n",
            "\n",
            "Topic 89 We follow Marcel Ophuls' two journeys to \n",
            "\n",
            "Topic 90 A radio repoter begins to suspect that a \n",
            "\n",
            "Topic 91 When Belnap finds his herd infected with \n",
            "\n",
            "Topic 94 Gabriel Knight (Tim Curry) is the owner o\n",
            "\n",
            "Topic 95 Nelson Crowe is a CIA operative under the\n",
            "\n",
            "Topic 96 One hundred eleven episodes of this syndi\n",
            "\n",
            "Topic 97 This unique and thought-provoking documen\n",
            "\n",
            "Topic 99 A documentary about the rise to fame of a\n",
            "\n"
          ]
        }
      ],
      "source": [
        "ida2Vec_topic_to_topwords = ida2Vec_K()"
      ]
    },
    {
      "cell_type": "markdown",
      "metadata": {
        "id": "kgg-dlluK2K3"
      },
      "source": [
        "## (4) (10 points) Generate K topics by using BERTopic, the number of topics K should be decided by the coherence score, then summarize what are the topics. You may refer the code here: \n",
        "\n",
        "https://colab.research.google.com/drive/1FieRA9fLdkQEGDIMYl0I3MCjSUKVF8C-?usp=sharing"
      ]
    },
    {
      "cell_type": "code",
      "execution_count": null,
      "metadata": {
        "id": "3tM60cPoK2K3"
      },
      "outputs": [],
      "source": [
        "!pip install bertopic"
      ]
    },
    {
      "cell_type": "code",
      "execution_count": null,
      "metadata": {
        "id": "1I_BoYucK2K3"
      },
      "outputs": [],
      "source": [
        "from bertopic import BERTopic\n",
        "\n",
        "topic_model = BERTopic(language=\"english\", calculate_probabilities=True, verbose=True)\n",
        "\n",
        "topic_model.fit(data['film_outline'].tolist())\n",
        "\n",
        "\n",
        "topics, probs = topic_model.fit(data['film_outline'])"
      ]
    },
    {
      "cell_type": "code",
      "execution_count": null,
      "metadata": {
        "id": "C_OOzmq4K2K3"
      },
      "outputs": [],
      "source": [
        "freq = topic_model.get_topic_info(); freq.head(5)"
      ]
    },
    {
      "cell_type": "code",
      "execution_count": null,
      "metadata": {
        "id": "nOmKpxd8K2K3"
      },
      "outputs": [],
      "source": [
        "topic_model.get_topic(0) "
      ]
    },
    {
      "cell_type": "markdown",
      "metadata": {
        "id": "1NYXXhVSK2K4"
      },
      "source": [
        "## (5) (10 extra points) Compare the results generated by the four topic modeling algorithms, which one is better? You should explain the reasons in details."
      ]
    },
    {
      "cell_type": "code",
      "execution_count": null,
      "metadata": {
        "id": "Dnl0P8IbK2K4"
      },
      "outputs": [],
      "source": [
        "# Write your answer here (no code needed for this question)\n",
        "\n",
        "\n",
        "\n"
      ]
    }
  ],
  "metadata": {
    "kernelspec": {
      "display_name": "Python 3 (ipykernel)",
      "language": "python",
      "name": "python3"
    },
    "language_info": {
      "codemirror_mode": {
        "name": "ipython",
        "version": 3
      },
      "file_extension": ".py",
      "mimetype": "text/x-python",
      "name": "python",
      "nbconvert_exporter": "python",
      "pygments_lexer": "ipython3",
      "version": "3.9.7"
    },
    "colab": {
      "provenance": []
    }
  },
  "nbformat": 4,
  "nbformat_minor": 0
}