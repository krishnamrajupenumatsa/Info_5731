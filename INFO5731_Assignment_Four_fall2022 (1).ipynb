{
  "cells": [
    {
      "cell_type": "markdown",
      "metadata": {
        "id": "view-in-github"
      },
      "source": [
        "##### <a href=\"https://colab.research.google.com/github/unt-iialab/INFO5731_Spring2020/blob/master/Assignments/INFO5731_Assignment_Four.ipynb\" target=\"_parent\"><img src=\"https://colab.research.google.com/assets/colab-badge.svg\" alt=\"Open In Colab\"/></a>"
      ]
    },
    {
      "cell_type": "markdown",
      "source": [
        "# New section"
      ],
      "metadata": {
        "id": "RvDmCZgqupZD"
      }
    },
    {
      "cell_type": "markdown",
      "metadata": {
        "id": "USSdXHuqnwv9"
      },
      "source": [
        "# **INFO5731 Assignment Four**\n",
        "\n",
        "In this assignment, you are required to conduct topic modeling, sentiment analysis based on **the dataset you created from assignment three**."
      ]
    },
    {
      "cell_type": "markdown",
      "metadata": {
        "id": "YWxodXh5n4xF"
      },
      "source": [
        "# **Question 1: Topic Modeling**"
      ]
    },
    {
      "cell_type": "markdown",
      "metadata": {
        "id": "TenBkDJ5n95k"
      },
      "source": [
        "(30 points). This question is designed to help you develop a feel for the way topic modeling works, the connection to the human meanings of documents. Based on the dataset from assignment three, write a python program to **identify the top 10 topics in the dataset**. Before answering this question, please review the materials in lesson 8, especially the code for LDA, LSA, and BERTopic. The following information should be reported:\n",
        "\n",
        "(1) Features (text representation) used for topic modeling.\n",
        "\n",
        "(2) Top 10 clusters for topic modeling.\n",
        "\n",
        "(3) Summarize and describe the topic for each cluster. \n"
      ]
    },
    {
      "cell_type": "code",
      "execution_count": 2,
      "metadata": {
        "id": "xUEI3YktuaKp"
      },
      "outputs": [],
      "source": [
        "# Write your code here\n",
        "\n",
        "import pandas as pd\n",
        "import os\n",
        "import warnings\n",
        "warnings.filterwarnings(\"ignore\")\n",
        "\n",
        "\n"
      ]
    },
    {
      "cell_type": "code",
      "execution_count": 3,
      "metadata": {
        "id": "TFxx8E8UuaKq"
      },
      "outputs": [],
      "source": [
        "import gensim\n",
        "import gensim.corpora as corpora"
      ]
    },
    {
      "cell_type": "code",
      "execution_count": 4,
      "metadata": {
        "id": "dJQODHmHuaKq"
      },
      "outputs": [],
      "source": [
        "# import numpy as np\n",
        "# from pprint import pprint\n",
        "# import gensim\n",
        "# import gensim.corpora as corpora\n",
        "# from gensim.utils import simple_preprocess\n",
        "# from gensim.models import CoherenceModel\n",
        "# import spacy\n",
        "# import pyLDAvis\n",
        "# pyLDAvis.enable_notebook()\n",
        "# import pyLDAvis.gensim_models as gensimvis  # don't skip this\n",
        "# import matplotlib.pyplot as plt\n",
        "# %matplotlib inline"
      ]
    },
    {
      "cell_type": "code",
      "execution_count": null,
      "metadata": {
        "id": "PuFPKhC0m1fd"
      },
      "outputs": [],
      "source": [
        "# Write your code here\n",
        "\n",
        "data = pd.read_csv(\"outline_data.csv\")\n"
      ]
    },
    {
      "cell_type": "code",
      "execution_count": null,
      "metadata": {
        "id": "xrzdPN89uaKr",
        "outputId": "dcf73c80-0ece-4196-f153-f5e2d42df6fd"
      },
      "outputs": [
        {
          "data": {
            "text/html": [
              "<div>\n",
              "<style scoped>\n",
              "    .dataframe tbody tr th:only-of-type {\n",
              "        vertical-align: middle;\n",
              "    }\n",
              "\n",
              "    .dataframe tbody tr th {\n",
              "        vertical-align: top;\n",
              "    }\n",
              "\n",
              "    .dataframe thead th {\n",
              "        text-align: right;\n",
              "    }\n",
              "</style>\n",
              "<table border=\"1\" class=\"dataframe\">\n",
              "  <thead>\n",
              "    <tr style=\"text-align: right;\">\n",
              "      <th></th>\n",
              "      <th>title</th>\n",
              "      <th>film_outline</th>\n",
              "    </tr>\n",
              "  </thead>\n",
              "  <tbody>\n",
              "    <tr>\n",
              "      <th>0</th>\n",
              "      <td>What's Up, Doc?</td>\n",
              "      <td>Two researchers have come to San Francisco to ...</td>\n",
              "    </tr>\n",
              "    <tr>\n",
              "      <th>1</th>\n",
              "      <td>Murder on the Blackboard</td>\n",
              "      <td>There are plenty of guilty secrets at the scho...</td>\n",
              "    </tr>\n",
              "    <tr>\n",
              "      <th>2</th>\n",
              "      <td>Szél</td>\n",
              "      <td>During a film course lead by Yvette Biro at th...</td>\n",
              "    </tr>\n",
              "    <tr>\n",
              "      <th>3</th>\n",
              "      <td>The Herd</td>\n",
              "      <td>Because of a local blood feud, a peasant famil...</td>\n",
              "    </tr>\n",
              "    <tr>\n",
              "      <th>4</th>\n",
              "      <td>It's Now or Never</td>\n",
              "      <td>A lonely sheep farmer in his fifties employs t...</td>\n",
              "    </tr>\n",
              "    <tr>\n",
              "      <th>...</th>\n",
              "      <td>...</td>\n",
              "      <td>...</td>\n",
              "    </tr>\n",
              "    <tr>\n",
              "      <th>95</th>\n",
              "      <td>Jailbait Babysitter</td>\n",
              "      <td>Vicki is 17 and her older friends call her Jai...</td>\n",
              "    </tr>\n",
              "    <tr>\n",
              "      <th>96</th>\n",
              "      <td>Jönssonligan &amp; den svarta diamanten</td>\n",
              "      <td>Sickan, the leader of the criminal Jönsson gan...</td>\n",
              "    </tr>\n",
              "    <tr>\n",
              "      <th>97</th>\n",
              "      <td>Women Without Men</td>\n",
              "      <td>Women without men can have lots of fun with ea...</td>\n",
              "    </tr>\n",
              "    <tr>\n",
              "      <th>98</th>\n",
              "      <td>A War Story</td>\n",
              "      <td>Major Ben Wheeler was a Canadian doctor assign...</td>\n",
              "    </tr>\n",
              "    <tr>\n",
              "      <th>99</th>\n",
              "      <td>Manhattan Parade</td>\n",
              "      <td>The John Roberts Costume Company is being run ...</td>\n",
              "    </tr>\n",
              "  </tbody>\n",
              "</table>\n",
              "<p>100 rows × 2 columns</p>\n",
              "</div>"
            ],
            "text/plain": [
              "                                  title  \\\n",
              "0                       What's Up, Doc?   \n",
              "1              Murder on the Blackboard   \n",
              "2                                  Szél   \n",
              "3                              The Herd   \n",
              "4                     It's Now or Never   \n",
              "..                                  ...   \n",
              "95                  Jailbait Babysitter   \n",
              "96  Jönssonligan & den svarta diamanten   \n",
              "97                    Women Without Men   \n",
              "98                          A War Story   \n",
              "99                     Manhattan Parade   \n",
              "\n",
              "                                         film_outline  \n",
              "0   Two researchers have come to San Francisco to ...  \n",
              "1   There are plenty of guilty secrets at the scho...  \n",
              "2   During a film course lead by Yvette Biro at th...  \n",
              "3   Because of a local blood feud, a peasant famil...  \n",
              "4   A lonely sheep farmer in his fifties employs t...  \n",
              "..                                                ...  \n",
              "95  Vicki is 17 and her older friends call her Jai...  \n",
              "96  Sickan, the leader of the criminal Jönsson gan...  \n",
              "97  Women without men can have lots of fun with ea...  \n",
              "98  Major Ben Wheeler was a Canadian doctor assign...  \n",
              "99  The John Roberts Costume Company is being run ...  \n",
              "\n",
              "[100 rows x 2 columns]"
            ]
          },
          "execution_count": 3,
          "metadata": {},
          "output_type": "execute_result"
        }
      ],
      "source": [
        "data"
      ]
    },
    {
      "cell_type": "code",
      "execution_count": null,
      "metadata": {
        "id": "RSGpkVjauaKs"
      },
      "outputs": [],
      "source": [
        "total_text = data.film_outline.tolist()"
      ]
    },
    {
      "cell_type": "code",
      "execution_count": null,
      "metadata": {
        "id": "OPQXEhcLuaKs"
      },
      "outputs": [],
      "source": [
        "import nltk"
      ]
    },
    {
      "cell_type": "code",
      "execution_count": null,
      "metadata": {
        "id": "SDF8afvWuaKs"
      },
      "outputs": [],
      "source": [
        "from nltk.corpus import stopwords\n",
        "from nltk.tokenize import word_tokenize"
      ]
    },
    {
      "cell_type": "code",
      "execution_count": null,
      "metadata": {
        "id": "t_vYW2vguaKs"
      },
      "outputs": [],
      "source": [
        "stop_words_list = set(stopwords.words('english'))"
      ]
    },
    {
      "cell_type": "code",
      "execution_count": null,
      "metadata": {
        "id": "oAV8mV0cuaKs"
      },
      "outputs": [],
      "source": [
        "tokenized_text_list = []\n",
        "for each_text_item in total_text:\n",
        "    tokenized_text = word_tokenize(each_text_item)\n",
        "    tokenized_text_list.append(tokenized_text)"
      ]
    },
    {
      "cell_type": "code",
      "execution_count": null,
      "metadata": {
        "id": "BZkE9j6uuaKs"
      },
      "outputs": [],
      "source": [
        "stop_words_removed_list = []\n",
        "for each_text_item in tokenized_text_list:\n",
        "    stop_words_removed_text = [word for word in each_text_item if not word.lower() in stop_words_list]\n",
        "    stop_words_removed_list.append(stop_words_removed_text)"
      ]
    },
    {
      "cell_type": "code",
      "execution_count": null,
      "metadata": {
        "id": "ZQqR1qXkuaKt"
      },
      "outputs": [],
      "source": [
        "from nltk.stem import WordNetLemmatizer"
      ]
    },
    {
      "cell_type": "code",
      "execution_count": null,
      "metadata": {
        "id": "KOFykYGpuaKt"
      },
      "outputs": [],
      "source": [
        "# import these modules\n",
        "from nltk.stem import WordNetLemmatizer\n",
        "  \n",
        "lemmatizer = WordNetLemmatizer()"
      ]
    },
    {
      "cell_type": "code",
      "execution_count": null,
      "metadata": {
        "id": "gL5C94KfuaKt"
      },
      "outputs": [],
      "source": [
        "lemm_text_list = []\n",
        "for each_text_item in stop_words_removed_list:\n",
        "    lemm_text = []\n",
        "    for each_word in each_text_item:\n",
        "        lemm_text.append(lemmatizer.lemmatize(each_word))\n",
        "    lemm_text_list.append(lemm_text)"
      ]
    },
    {
      "cell_type": "code",
      "execution_count": null,
      "metadata": {
        "id": "zrrT2uRMuaKt"
      },
      "outputs": [],
      "source": [
        "id2word = corpora.Dictionary(lemm_text_list)"
      ]
    },
    {
      "cell_type": "code",
      "execution_count": null,
      "metadata": {
        "id": "hc_uIJWWuaKt"
      },
      "outputs": [],
      "source": [
        "corpus = [id2word.doc2bow(text) for text in lemm_text_list]"
      ]
    },
    {
      "cell_type": "code",
      "execution_count": null,
      "metadata": {
        "id": "PkhrodSWuaKt"
      },
      "outputs": [],
      "source": [
        "lda_model = gensim.models.ldamodel.LdaModel(corpus=corpus,\n",
        "                                           id2word=id2word,\n",
        "                                           num_topics=20, \n",
        "                                           random_state=100,\n",
        "                                           update_every=1,\n",
        "                                           chunksize=100,\n",
        "                                           passes=10,\n",
        "                                           alpha='auto',\n",
        "                                           per_word_topics=True)"
      ]
    },
    {
      "cell_type": "code",
      "execution_count": null,
      "metadata": {
        "id": "8OX8tMnRuaKu"
      },
      "outputs": [],
      "source": [
        "doc_lda = lda_model[corpus]"
      ]
    },
    {
      "cell_type": "code",
      "execution_count": null,
      "metadata": {
        "id": "erNoT_ixuaKu",
        "outputId": "0cb09825-6d83-4f27-ac6e-be5e77af0851"
      },
      "outputs": [
        {
          "data": {
            "text/plain": [
              "[(0,\n",
              "  '0.017*\",\" + 0.012*\"former\" + 0.012*\"hustler\" + 0.012*\".\" + 0.006*\"football\" + 0.006*\"get\" + 0.006*\"abandon\" + 0.006*\"partner\" + 0.006*\"come\" + 0.006*\"plan\"'),\n",
              " (1,\n",
              "  '0.087*\",\" + 0.056*\".\" + 0.025*\"\\'s\" + 0.006*\"family\" + 0.005*\"husband\" + 0.005*\"young\" + 0.005*\"return\" + 0.004*\"friend\" + 0.004*\"year\" + 0.004*\"Zelda\"'),\n",
              " (2,\n",
              "  '0.036*\".\" + 0.032*\",\" + 0.027*\"(\" + 0.027*\")\" + 0.016*\"Takashi\" + 0.010*\"city\" + 0.010*\"Mustafa\" + 0.010*\"house\" + 0.008*\"\\'s\" + 0.008*\"Earth\"'),\n",
              " (3,\n",
              "  '0.037*\".\" + 0.033*\",\" + 0.015*\"de\" + 0.008*\")\" + 0.008*\"(\" + 0.008*\"Police\" + 0.008*\"gay\" + 0.008*\"Benson\" + 0.008*\"Marquis\" + 0.008*\"Scaramouche\"'),\n",
              " (4,\n",
              "  '0.001*\",\" + 0.001*\".\" + 0.001*\"Frankie\" + 0.000*\"Carol\" + 0.000*\"\\'s\" + 0.000*\"(\" + 0.000*\"Robert\" + 0.000*\"home\" + 0.000*\")\" + 0.000*\"child\"'),\n",
              " (5,\n",
              "  '0.030*\",\" + 0.030*\".\" + 0.017*\"infected\" + 0.017*\"herd\" + 0.013*\"find\" + 0.009*\"ship\" + 0.009*\"cow\" + 0.009*\"Wheeler\" + 0.009*\"Gene\" + 0.009*\"brand\"'),\n",
              " (6,\n",
              "  '0.041*\",\" + 0.033*\".\" + 0.011*\")\" + 0.011*\"Andre\" + 0.011*\"(\" + 0.011*\"Johanna\" + 0.011*\"Dario\" + 0.008*\"car\" + 0.008*\"covered\" + 0.008*\"jungle\"'),\n",
              " (7,\n",
              "  '0.031*\".\" + 0.024*\",\" + 0.017*\"Vicki\" + 0.011*\"\\'s\" + 0.011*\"business\" + 0.011*\"Lorraine\" + 0.011*\"\\'\\'\" + 0.011*\"``\" + 0.007*\"$\" + 0.007*\"movie\"'),\n",
              " (8,\n",
              "  '0.056*\",\" + 0.032*\".\" + 0.016*\"\\'s\" + 0.016*\"\\'\\'\" + 0.013*\"Dot\" + 0.013*\"Cutey\" + 0.010*\"``\" + 0.008*\"marry\" + 0.008*\"one\" + 0.006*\"\\'\"'),\n",
              " (9,\n",
              "  '0.030*\",\" + 0.025*\".\" + 0.010*\"murder\" + 0.010*\"book\" + 0.010*\"New\" + 0.010*\"Marie\" + 0.005*\"\\'s\" + 0.005*\"find\" + 0.005*\"writer\" + 0.005*\"time\"'),\n",
              " (10,\n",
              "  '0.000*\",\" + 0.000*\".\" + 0.000*\"Sam\" + 0.000*\"covered\" + 0.000*\"circus\" + 0.000*\"car\" + 0.000*\"Wonder\" + 0.000*\"Kitty\" + 0.000*\"ensues\" + 0.000*\"Donald\"'),\n",
              " (11,\n",
              "  '0.049*\".\" + 0.012*\"film\" + 0.012*\"Kara\" + 0.009*\",\" + 0.008*\"like\" + 0.008*\"director\" + 0.008*\"-\" + 0.008*\"treasure\" + 0.004*\"peak\" + 0.004*\"requirement\"'),\n",
              " (12,\n",
              "  '0.054*\",\" + 0.052*\".\" + 0.013*\"find\" + 0.012*\"\\'s\" + 0.008*\"stranger\" + 0.008*\"alien\" + 0.008*\"without\" + 0.008*\"Questor\" + 0.008*\"fun\" + 0.008*\"Vaslovik\"'),\n",
              " (13,\n",
              "  '0.083*\",\" + 0.060*\".\" + 0.014*\"\\'s\" + 0.006*\")\" + 0.006*\"(\" + 0.006*\"Wayne\" + 0.005*\"Conrad\" + 0.005*\"Sam\" + 0.005*\"circus\" + 0.005*\"-\"'),\n",
              " (14,\n",
              "  '0.059*\",\" + 0.047*\".\" + 0.016*\"\\'s\" + 0.009*\"Cooke\" + 0.009*\"life\" + 0.009*\"Shep\" + 0.007*\"wife\" + 0.007*\"become\" + 0.007*\"top\" + 0.007*\"stolen\"'),\n",
              " (15,\n",
              "  '0.028*\".\" + 0.028*\";\" + 0.016*\",\" + 0.012*\"Playboy\" + 0.012*\"shot\" + 0.008*\"game\" + 0.008*\"ground\" + 0.008*\"playing\" + 0.008*\"Grotto\" + 0.008*\"first\"'),\n",
              " (16,\n",
              "  '0.026*\",\" + 0.026*\".\" + 0.017*\"Sickan\" + 0.013*\"Inspector\" + 0.009*\"\\'s\" + 0.009*\"(\" + 0.009*\")\" + 0.009*\"Dr\" + 0.009*\"Busé\" + 0.009*\"case\"'),\n",
              " (17,\n",
              "  '0.088*\",\" + 0.051*\".\" + 0.015*\"\\'s\" + 0.014*\"Jimmy\" + 0.013*\"money\" + 0.012*\"Ruth\" + 0.008*\"life\" + 0.007*\")\" + 0.007*\"Roberts\" + 0.007*\"Blackie\"'),\n",
              " (18,\n",
              "  '0.089*\",\" + 0.055*\".\" + 0.014*\"\\'s\" + 0.007*\"Ramon\" + 0.006*\"love\" + 0.006*\"Kitchell\" + 0.006*\"woman\" + 0.005*\"find\" + 0.005*\"young\" + 0.005*\"blackmail\"'),\n",
              " (19,\n",
              "  '0.083*\",\" + 0.045*\".\" + 0.022*\"Frankie\" + 0.013*\"Carol\" + 0.012*\"\\'s\" + 0.011*\"Tom\" + 0.007*\"film\" + 0.007*\"Charley\" + 0.007*\"Marshal\" + 0.007*\"go\"')]"
            ]
          },
          "execution_count": 20,
          "metadata": {},
          "output_type": "execute_result"
        }
      ],
      "source": [
        "lda_model.print_topics()"
      ]
    },
    {
      "cell_type": "markdown",
      "metadata": {
        "id": "AfpMRCrRwN6Z"
      },
      "source": [
        "# **Question 2: Sentiment Analysis**"
      ]
    },
    {
      "cell_type": "markdown",
      "metadata": {
        "id": "1dCQEbDawWCw"
      },
      "source": [
        "(30 points). Sentiment analysis also known as opinion mining is a sub field within Natural Language Processing (NLP) that builds machine learning algorithms to classify a text according to the sentimental polarities of opinions it contains, e.g., positive, negative, neutral. The purpose of this question is to develop a machine learning classifier for sentiment analysis. Based on the dataset from assignment three, write a python program to implement a sentiment classifier and evaluate its performance. Notice: **80% data for training and 20% data for testing**.  \n",
        "\n",
        "(1) Features used for sentiment classification and explain why you select these features.\n",
        "\n",
        "(2) Select two of the supervised learning algorithm from scikit-learn library: https://scikit-learn.org/stable/supervised_learning.html#supervised-learning, to build a sentiment classifier respectively. Note: Cross-validation (5-fold or 10-fold) should be conducted. Here is the reference of cross-validation: https://scikit-learn.org/stable/modules/cross_validation.html.\n",
        "\n",
        "(3) Compare the performance over accuracy, precision, recall, and F1 score for the two algorithms you selected. Here is the reference of how to calculate these metrics: https://towardsdatascience.com/accuracy-precision-recall-or-f1-331fb37c5cb9. "
      ]
    },
    {
      "cell_type": "code",
      "execution_count": null,
      "metadata": {
        "id": "prTOJkY5uaKv"
      },
      "outputs": [],
      "source": [
        "data_with_sentiment = pd.read_csv(\"data_with_sentiment_score.csv\")"
      ]
    },
    {
      "cell_type": "code",
      "execution_count": null,
      "metadata": {
        "id": "O8kFFjpEuaKv"
      },
      "outputs": [],
      "source": [
        "from sklearn.feature_extraction.text import TfidfVectorizer"
      ]
    },
    {
      "cell_type": "code",
      "execution_count": null,
      "metadata": {
        "id": "zS1ed7FUuaKv"
      },
      "outputs": [],
      "source": [
        "from sklearn.ensemble import GradientBoostingRegressor"
      ]
    },
    {
      "cell_type": "code",
      "execution_count": null,
      "metadata": {
        "id": "kKafbjk7uaKv"
      },
      "outputs": [],
      "source": [
        "vectorizer = TfidfVectorizer()"
      ]
    },
    {
      "cell_type": "code",
      "execution_count": null,
      "metadata": {
        "id": "b9XubJPAuaKv"
      },
      "outputs": [],
      "source": [
        "from sklearn.model_selection import train_test_split"
      ]
    },
    {
      "cell_type": "code",
      "execution_count": null,
      "metadata": {
        "id": "Ukbp_ObIuaKv"
      },
      "outputs": [],
      "source": [
        "X = vectorizer.fit_transform(data_with_sentiment['film_outline'])"
      ]
    },
    {
      "cell_type": "code",
      "execution_count": null,
      "metadata": {
        "id": "Ox6jQK4ZuaKv",
        "outputId": "081fc404-ba90-4ed3-e6e0-c75949ef529e"
      },
      "outputs": [
        {
          "name": "stdout",
          "output_type": "stream",
          "text": [
            "(100, 2883)\n"
          ]
        }
      ],
      "source": [
        "print(X.shape)"
      ]
    },
    {
      "cell_type": "code",
      "execution_count": null,
      "metadata": {
        "id": "UcnPdnkJuaKv"
      },
      "outputs": [],
      "source": [
        "y = data_with_sentiment['direction']"
      ]
    },
    {
      "cell_type": "code",
      "execution_count": null,
      "metadata": {
        "id": "ZdztijoquaKv"
      },
      "outputs": [],
      "source": [
        "X_train, X_test, y_train, y_test = train_test_split(X, y, test_size=0.33, random_state=42)"
      ]
    },
    {
      "cell_type": "code",
      "execution_count": null,
      "metadata": {
        "id": "waTxtAfAuaKw"
      },
      "outputs": [],
      "source": [
        "from sklearn.ensemble import AdaBoostClassifier"
      ]
    },
    {
      "cell_type": "code",
      "execution_count": null,
      "metadata": {
        "id": "xHOviqXYuaKw"
      },
      "outputs": [],
      "source": [
        "Ada_clf = AdaBoostClassifier(n_estimators=100)"
      ]
    },
    {
      "cell_type": "code",
      "execution_count": null,
      "metadata": {
        "id": "w_k5Zsb7uaKw"
      },
      "outputs": [],
      "source": [
        "acc_scores_1 = cross_val_score(Ada_clf, X_train, y_train, cv=5, scoring = 'accuracy')"
      ]
    },
    {
      "cell_type": "code",
      "execution_count": null,
      "metadata": {
        "id": "uBwF1TaIuaKw",
        "outputId": "548e321c-8579-43c8-c357-5c61fe2e6466"
      },
      "outputs": [
        {
          "data": {
            "text/plain": [
              "0.5395604395604395"
            ]
          },
          "execution_count": 123,
          "metadata": {},
          "output_type": "execute_result"
        }
      ],
      "source": [
        "acc_scores_1.mean()"
      ]
    },
    {
      "cell_type": "code",
      "execution_count": null,
      "metadata": {
        "id": "W7Kruz5wuaKw"
      },
      "outputs": [],
      "source": [
        "from sklearn import tree"
      ]
    },
    {
      "cell_type": "code",
      "execution_count": null,
      "metadata": {
        "id": "R-xfGtbxuaKw"
      },
      "outputs": [],
      "source": [
        "DT_clf = tree.DecisionTreeClassifier()"
      ]
    },
    {
      "cell_type": "code",
      "execution_count": null,
      "metadata": {
        "id": "m4VNCvyUuaKw"
      },
      "outputs": [],
      "source": [
        "acc_scores_2 = cross_val_score(DT_clf, X_train, y_train, cv=5, scoring = 'accuracy')"
      ]
    },
    {
      "cell_type": "code",
      "execution_count": null,
      "metadata": {
        "id": "hDVUwyhpuaKw",
        "outputId": "1942a7b7-6431-426b-e54c-a8ff26151c16"
      },
      "outputs": [
        {
          "data": {
            "text/plain": [
              "0.467032967032967"
            ]
          },
          "execution_count": 124,
          "metadata": {},
          "output_type": "execute_result"
        }
      ],
      "source": [
        "acc_scores_2.mean()"
      ]
    },
    {
      "cell_type": "markdown",
      "metadata": {
        "id": "E5mmYIfN8eYV"
      },
      "source": [
        "# **Question 3: House price prediction**"
      ]
    },
    {
      "cell_type": "markdown",
      "metadata": {
        "id": "hsi2y4z88ngX"
      },
      "source": [
        "(40 points). You are required to build a **regression** model to predict the house price with 79 explanatory variables describing (almost) every aspect of residential homes. The purpose of this question is to practice regression analysis, an supervised learning model. The training data, testing data, and data description files can be download from canvas. Here is an axample for implementation: https://towardsdatascience.com/linear-regression-in-python-predict-the-bay-areas-home-price-5c91c8378878. \n"
      ]
    },
    {
      "cell_type": "code",
      "execution_count": null,
      "metadata": {
        "id": "-tVvhOGxuaKx"
      },
      "outputs": [],
      "source": [
        "house_data_train = pd.read_csv(\"data/train.csv\")"
      ]
    },
    {
      "cell_type": "code",
      "execution_count": null,
      "metadata": {
        "id": "cxwEl7BKuaKx"
      },
      "outputs": [],
      "source": [
        "X = house_data_train.iloc[:,:-1]"
      ]
    },
    {
      "cell_type": "code",
      "execution_count": null,
      "metadata": {
        "id": "eTJRURrCuaKx"
      },
      "outputs": [],
      "source": [
        "X = X.fillna(\"Not avaiable\")"
      ]
    },
    {
      "cell_type": "code",
      "execution_count": null,
      "metadata": {
        "id": "cA9TtJ54uaKx"
      },
      "outputs": [],
      "source": [
        "X = pd.get_dummies(X, dummy_na=False)"
      ]
    },
    {
      "cell_type": "code",
      "execution_count": null,
      "metadata": {
        "id": "ciV2zgeJuaKx"
      },
      "outputs": [],
      "source": [
        "y = house_data_train.iloc[:,-1]"
      ]
    },
    {
      "cell_type": "code",
      "execution_count": null,
      "metadata": {
        "id": "1KgXa57WuaKx"
      },
      "outputs": [],
      "source": [
        "X_train, X_test, y_train, y_test = train_test_split(X, y, test_size=0.33, random_state=42)"
      ]
    },
    {
      "cell_type": "code",
      "execution_count": null,
      "metadata": {
        "id": "db0yRABCuaKx"
      },
      "outputs": [],
      "source": [
        "from sklearn.ensemble import GradientBoostingRegressor"
      ]
    },
    {
      "cell_type": "code",
      "execution_count": null,
      "metadata": {
        "id": "rXbLPPZxuaKx"
      },
      "outputs": [],
      "source": [
        "gdb_regressor = GradientBoostingRegressor(n_estimators=100, learning_rate=0.1,\n",
        "                                max_depth=1, random_state=0,loss='squared_error').fit(X_train, y_train)"
      ]
    },
    {
      "cell_type": "code",
      "execution_count": null,
      "metadata": {
        "id": "WC0poDk4uaKx",
        "outputId": "9954b764-6b04-4be4-91c0-539148bba337"
      },
      "outputs": [
        {
          "data": {
            "text/html": [
              "<style>#sk-container-id-1 {color: black;background-color: white;}#sk-container-id-1 pre{padding: 0;}#sk-container-id-1 div.sk-toggleable {background-color: white;}#sk-container-id-1 label.sk-toggleable__label {cursor: pointer;display: block;width: 100%;margin-bottom: 0;padding: 0.3em;box-sizing: border-box;text-align: center;}#sk-container-id-1 label.sk-toggleable__label-arrow:before {content: \"▸\";float: left;margin-right: 0.25em;color: #696969;}#sk-container-id-1 label.sk-toggleable__label-arrow:hover:before {color: black;}#sk-container-id-1 div.sk-estimator:hover label.sk-toggleable__label-arrow:before {color: black;}#sk-container-id-1 div.sk-toggleable__content {max-height: 0;max-width: 0;overflow: hidden;text-align: left;background-color: #f0f8ff;}#sk-container-id-1 div.sk-toggleable__content pre {margin: 0.2em;color: black;border-radius: 0.25em;background-color: #f0f8ff;}#sk-container-id-1 input.sk-toggleable__control:checked~div.sk-toggleable__content {max-height: 200px;max-width: 100%;overflow: auto;}#sk-container-id-1 input.sk-toggleable__control:checked~label.sk-toggleable__label-arrow:before {content: \"▾\";}#sk-container-id-1 div.sk-estimator input.sk-toggleable__control:checked~label.sk-toggleable__label {background-color: #d4ebff;}#sk-container-id-1 div.sk-label input.sk-toggleable__control:checked~label.sk-toggleable__label {background-color: #d4ebff;}#sk-container-id-1 input.sk-hidden--visually {border: 0;clip: rect(1px 1px 1px 1px);clip: rect(1px, 1px, 1px, 1px);height: 1px;margin: -1px;overflow: hidden;padding: 0;position: absolute;width: 1px;}#sk-container-id-1 div.sk-estimator {font-family: monospace;background-color: #f0f8ff;border: 1px dotted black;border-radius: 0.25em;box-sizing: border-box;margin-bottom: 0.5em;}#sk-container-id-1 div.sk-estimator:hover {background-color: #d4ebff;}#sk-container-id-1 div.sk-parallel-item::after {content: \"\";width: 100%;border-bottom: 1px solid gray;flex-grow: 1;}#sk-container-id-1 div.sk-label:hover label.sk-toggleable__label {background-color: #d4ebff;}#sk-container-id-1 div.sk-serial::before {content: \"\";position: absolute;border-left: 1px solid gray;box-sizing: border-box;top: 0;bottom: 0;left: 50%;z-index: 0;}#sk-container-id-1 div.sk-serial {display: flex;flex-direction: column;align-items: center;background-color: white;padding-right: 0.2em;padding-left: 0.2em;position: relative;}#sk-container-id-1 div.sk-item {position: relative;z-index: 1;}#sk-container-id-1 div.sk-parallel {display: flex;align-items: stretch;justify-content: center;background-color: white;position: relative;}#sk-container-id-1 div.sk-item::before, #sk-container-id-1 div.sk-parallel-item::before {content: \"\";position: absolute;border-left: 1px solid gray;box-sizing: border-box;top: 0;bottom: 0;left: 50%;z-index: -1;}#sk-container-id-1 div.sk-parallel-item {display: flex;flex-direction: column;z-index: 1;position: relative;background-color: white;}#sk-container-id-1 div.sk-parallel-item:first-child::after {align-self: flex-end;width: 50%;}#sk-container-id-1 div.sk-parallel-item:last-child::after {align-self: flex-start;width: 50%;}#sk-container-id-1 div.sk-parallel-item:only-child::after {width: 0;}#sk-container-id-1 div.sk-dashed-wrapped {border: 1px dashed gray;margin: 0 0.4em 0.5em 0.4em;box-sizing: border-box;padding-bottom: 0.4em;background-color: white;}#sk-container-id-1 div.sk-label label {font-family: monospace;font-weight: bold;display: inline-block;line-height: 1.2em;}#sk-container-id-1 div.sk-label-container {text-align: center;}#sk-container-id-1 div.sk-container {/* jupyter's `normalize.less` sets `[hidden] { display: none; }` but bootstrap.min.css set `[hidden] { display: none !important; }` so we also need the `!important` here to be able to override the default hidden behavior on the sphinx rendered scikit-learn.org. See: https://github.com/scikit-learn/scikit-learn/issues/21755 */display: inline-block !important;position: relative;}#sk-container-id-1 div.sk-text-repr-fallback {display: none;}</style><div id=\"sk-container-id-1\" class=\"sk-top-container\"><div class=\"sk-text-repr-fallback\"><pre>AdaBoostClassifier(n_estimators=100)</pre><b>In a Jupyter environment, please rerun this cell to show the HTML representation or trust the notebook. <br />On GitHub, the HTML representation is unable to render, please try loading this page with nbviewer.org.</b></div><div class=\"sk-container\" hidden><div class=\"sk-item\"><div class=\"sk-estimator sk-toggleable\"><input class=\"sk-toggleable__control sk-hidden--visually\" id=\"sk-estimator-id-1\" type=\"checkbox\" checked><label for=\"sk-estimator-id-1\" class=\"sk-toggleable__label sk-toggleable__label-arrow\">AdaBoostClassifier</label><div class=\"sk-toggleable__content\"><pre>AdaBoostClassifier(n_estimators=100)</pre></div></div></div></div></div>"
            ],
            "text/plain": [
              "AdaBoostClassifier(n_estimators=100)"
            ]
          },
          "execution_count": 186,
          "metadata": {},
          "output_type": "execute_result"
        }
      ],
      "source": [
        "Ada_clf.fit(X_train,y_train)"
      ]
    },
    {
      "cell_type": "code",
      "execution_count": null,
      "metadata": {
        "id": "QxwkkxRPuaKy"
      },
      "outputs": [],
      "source": [
        "y_pred = Ada_clf.predict(X_test)"
      ]
    },
    {
      "cell_type": "code",
      "execution_count": null,
      "metadata": {
        "id": "vwAP2xqbuaKy"
      },
      "outputs": [],
      "source": []
    }
  ],
  "metadata": {
    "colab": {
      "provenance": []
    },
    "kernelspec": {
      "display_name": "Python 3 (ipykernel)",
      "language": "python",
      "name": "python3"
    },
    "language_info": {
      "codemirror_mode": {
        "name": "ipython",
        "version": 3
      },
      "file_extension": ".py",
      "mimetype": "text/x-python",
      "name": "python",
      "nbconvert_exporter": "python",
      "pygments_lexer": "ipython3",
      "version": "3.9.7"
    }
  },
  "nbformat": 4,
  "nbformat_minor": 0
}